{
 "metadata": {
  "name": ""
 },
 "nbformat": 3,
 "nbformat_minor": 0,
 "worksheets": [
  {
   "cells": [
    {
     "cell_type": "heading",
     "level": 1,
     "metadata": {},
     "source": [
      "Tareas del articulo"
     ]
    },
    {
     "cell_type": "code",
     "collapsed": false,
     "input": [
      "from pylab import *\n",
      "#%matplotlib inline"
     ],
     "language": "python",
     "metadata": {},
     "outputs": [],
     "prompt_number": 1
    },
    {
     "cell_type": "heading",
     "level": 2,
     "metadata": {},
     "source": [
      "Primera tarea"
     ]
    },
    {
     "cell_type": "code",
     "collapsed": false,
     "input": [
      "Jc,Js,DJs,Dbs,bx,bz=[0.01,1.0,0.0,0.0,1.0,1.0] "
     ],
     "language": "python",
     "metadata": {},
     "outputs": [],
     "prompt_number": 2
    },
    {
     "cell_type": "code",
     "collapsed": false,
     "input": [
      "q=17\n",
      "x=6\n",
      "#veces=5\n",
      "for Jp in [0.05,0.1,0.3,0.5,0.8,1.0] :\n",
      "    !ssh t800  carlospg/qubits-CUDA/./abc -o purity -q $q --x $x --model model7 --Jc $Jc --Jp $Jp --Js $Js --DJs $DJs --bx $bx --bz $bz --Dbs $Dbs --t 2000 --Cseed -1 --Eseed 3462 --PARAMseed 9678  > pur.dat\n",
      "    a=loadtxt(\"pur.dat\")\n",
      "    plot(a,label=str(Jp))\n",
      "legend()\n",
      "xlabel(\"$t$\")\n",
      "ylabel(\"$P$\")\n",
      "axis([0,2000,.48,1])\n",
      "#text(70,.8,'$J_c=0.01$',fontsize=18)\n",
      "show()"
     ],
     "language": "python",
     "metadata": {},
     "outputs": [
      {
       "output_type": "stream",
       "stream": "stdout",
       "text": [
        "^C\r\n"
       ]
      }
     ],
     "prompt_number": 3
    },
    {
     "cell_type": "heading",
     "level": 2,
     "metadata": {},
     "source": [
      "Segunda tarea"
     ]
    },
    {
     "cell_type": "code",
     "collapsed": false,
     "input": [
      "Jc,Js,DJs,Dbs,bx,bz=[0.01,1.0,0.0,0.0,1.0,1.0] "
     ],
     "language": "python",
     "metadata": {},
     "outputs": [],
     "prompt_number": 18
    },
    {
     "cell_type": "code",
     "collapsed": false,
     "input": [
      "q=17\n",
      "x=6\n",
      "#veces=5\n",
      "jps=linspace(1.2,pi/2,10)\n",
      "!rm pur_pret.dat\n",
      "for Jp in jps :\n",
      "    !ssh t800  carlospg/qubits-CUDA/./abc -o purity_onet -q $q --x $x --model modelConexRand --Jc $Jc --Jp $Jp --Js $Js --DJs $DJs --bx $bx --bz $bz --Dbs $Dbs --t 1000 --Cseed -1 --Eseed 3462 --PARAMseed 0  >> pur_pret.dat\n",
      "\n"
     ],
     "language": "python",
     "metadata": {},
     "outputs": [
      {
       "output_type": "stream",
       "stream": "stdout",
       "text": [
        "*** Error in `carlospg/qubits-CUDA/./abc': free(): invalid next size (normal): 0x0000000000dd4e30 ***\r\n"
       ]
      },
      {
       "output_type": "stream",
       "stream": "stdout",
       "text": [
        "======= Backtrace: =========\r\n",
        "/lib64/libc.so.6(+0x79033)[0x7fed49ff9033]\r\n",
        "/lib64/libc.so.6(+0x7ebc6)[0x7fed49ffebc6]\r\n",
        "/lib64/libc.so.6(+0x7fd92)[0x7fed49fffd92]\r\n",
        "/usr/lib64/libitpp.so.7(_ZN4itpp3MatIiED2Ev+0x12)[0x7fed4b25a772]\r\n",
        "carlospg/qubits-CUDA/./abc[0x435151]\r\n",
        "carlospg/qubits-CUDA/./abc[0x4362a3]\r\n",
        "/lib64/libc.so.6(__libc_start_main+0xf5)[0x7fed49fa4db5]\r\n",
        "carlospg/qubits-CUDA/./abc[0x40aa09]\r\n",
        "======= Memory map: ========\r\n"
       ]
      },
      {
       "output_type": "stream",
       "stream": "stdout",
       "text": [
        "00400000-004db000 r-xp 00000000 08:12 58851551                           /home/eduardo/carlospg/qubits-CUDA/abc\r\n",
        "006db000-006dd000 r--p 000db000 08:12 58851551                           /home/eduardo/carlospg/qubits-CUDA/abc\r\n",
        "006dd000-006de000 rw-p 000dd000 08:12 58851551                           /home/eduardo/carlospg/qubits-CUDA/abc\r\n",
        "006de000-00e84000 rw-p 00000000 00:00 0                                  [heap]\r\n",
        "200000000-200100000 rw-s 40c99b000 00:06 4725                            /dev/nvidiactl\r\n",
        "200100000-204100000 ---p 00000000 00:00 0 \r\n",
        "204100000-204200000 rw-s 2c5221000 00:06 4725                            /dev/nvidiactl\r\n",
        "204200000-204300000 ---p 00000000 00:00 0 \r\n",
        "204300000-204400000 rw-s 2d939f000 00:06 4725                            /dev/nvidiactl\r\n",
        "204400000-d00000000 ---p 00000000 00:00 0 \r\n",
        "7fed3f000000-7fed3f400000 rw-s 28efae000 00:06 4725                      /dev/nvidiactl\r\n",
        "7fed3f400000-7fed3f800000 rw-s 2c6d61000 00:06 4725                      /dev/nvidiactl\r\n",
        "7fed3f800000-7fed3fc00000 rw-s 2c9cfa000 00:06 4725                      /dev/nvidiactl\r\n",
        "7fed3fc00000-7fed40000000 rw-s 1d0e8f000 00:06 4725                      /dev/nvidiactl\r\n",
        "7fed40000000-7fed40021000 rw-p 00000000 00:00 0 \r\n",
        "7fed40021000-7fed44000000 ---p 00000000 00:00 0 \r\n",
        "7fed44078000-7fed44178000 rw-s 1cfee5000 00:06 4725                      /dev/nvidiactl\r\n",
        "7fed44178000-7fed44278000 rw-s 319b22000 00:06 4725                      /dev/nvidiactl\r\n",
        "7fed44278000-7fed44678000 rw-s 31e5b6000 00:06 4725                      /dev/nvidiactl\r\n",
        "7fed44678000-7fed44a78000 rw-s 2795b9000 00:06 4725                      /dev/nvidiactl\r\n",
        "7fed44a78000-7fed44e78000 rw-s 1cadc3000 00:06 4725                      /dev/nvidiactl\r\n",
        "7fed44e78000-7fed45278000 rw-s 1d0f6a000 00:06 4725                      /dev/nvidiactl\r\n",
        "7fed45278000-7fed45678000 rw-s 415ae0000 00:06 4725                      /dev/nvidiactl\r\n",
        "7fed45678000-7fed45a78000 rw-s 280fdb000 00:06 4725                      /dev/nvidiactl\r\n",
        "7fed45a78000-7fed45e78000 rw-s 34592d000 00:06 4725                      /dev/nvidiactl\r\n",
        "7fed45e78000-7fed46278000 rw-s 419f84000 00:06 4725                      /dev/nvidiactl\r\n",
        "7fed46278000-7fed46678000 rw-s 416013000 00:06 4725                      /dev/nvidiactl\r\n",
        "7fed46678000-7fed46a78000 rw-s 413e4a000 00:06 4725                      /dev/nvidiactl\r\n",
        "7fed46a78000-7fed46e78000 rw-s 231e5d000 00:06 4725                      /dev/nvidiactl\r\n",
        "7fed46e78000-7fed47278000 rw-s 415fec000 00:06 4725                      /dev/nvidiactl\r\n",
        "7fed47278000-7fed47279000 ---p 00000000 00:00 0 \r\n",
        "7fed47279000-7fed47a79000 rwxp 00000000 00:00 0                          [stack:7469]\r\n",
        "7fed47a79000-7fed47c7a000 rw-p 00000000 00:00 0 \r\n",
        "7fed47c9a000-7fed47d1b000 rw-s 281189000 00:06 4725                      /dev/nvidiactl\r\n",
        "7fed47d1b000-7fed47e1b000 rw-s 86691000 00:06 4725                       /dev/nvidiactl\r\n",
        "7fed47e1b000-7fed47e3b000 rw-s 380e001e0000 00:06 5486                   /dev/nvidia1\r\n",
        "7fed47e3b000-7fed47e5b000 rw-s 380e001c0000 00:06 5486                   /dev/nvidia1\r\n",
        "7fed47e5b000-7fed47e7b000 rw-s 380e001a0000 00:06 5486                   /dev/nvidia1\r\n",
        "7fed47e7b000-7fed4893f000 r-xp 00000000 08:06 1179743                    /usr/lib64/libcuda.so.346.35\r\n",
        "7fed4893f000-7fed48b3f000 ---p 00ac4000 08:06 1179743                    /usr/lib64/libcuda.so.346.35\r\n",
        "7fed48b3f000-7fed48cf1000 rw-p 00ac4000 08:06 1179743                    /usr/lib64/libcuda.so.346.35\r\n",
        "7fed48cf1000-7fed48d06000 rw-p 00000000 00:00 0 \r\n",
        "7fed48d06000-7fed48d41000 r-xp 00000000 08:06 1231958                    /usr/lib64/gcc/x86_64-pc-linux-gnu/4.8.3/libquadmath.so.0.0.0\r\n",
        "7fed48d41000-7fed48f40000 ---p 0003b000 08:06 1231958                    /usr/lib64/gcc/x86_64-pc-linux-gnu/4.8.3/libquadmath.so.0.0.0\r\n",
        "7fed48f40000-7fed48f41000 r--p 0003a000 08:06 1231958                    /usr/lib64/gcc/x86_64-pc-linux-gnu/4.8.3/libquadmath.so.0.0.0\r\n",
        "7fed48f41000-7fed48f42000 rw-p 0003b000 08:06 1231958                    /usr/lib64/gcc/x86_64-pc-linux-gnu/4.8.3/libquadmath.so.0.0.0\r\n",
        "7fed48f42000-7fed4905b000 r-xp 00000000 08:06 1182344                    /usr/lib64/gcc/x86_64-pc-linux-gnu/4.8.3/libgfortran.so.3.0.0\r\n",
        "7fed4905b000-7fed4925b000 ---p 00119000 08:06 1182344                    /usr/lib64/gcc/x86_64-pc-linux-gnu/4.8.3/libgfortran.so.3.0.0\r\n",
        "7fed4925b000-7fed4925c000 r--p 00119000 08:06 1182344                    /usr/lib64/gcc/x86_64-pc-linux-gnu/4.8.3/libgfortran.so.3.0.0\r\n",
        "7fed4925c000-7fed4925e000 rw-p 0011a000 08:06 1182344                    /usr/lib64/gcc/x86_64-pc-linux-gnu/4.8.3/libgfortran.so.3.0.0\r\n",
        "7fed4925e000-7fed492b6000 r-xp 00000000 08:06 1207775                    /usr/lib64/blas/reference/libblas.so.0.0.0\r\n",
        "7fed492b6000-7fed494b5000 ---p 00058000 08:06 1207775                    /usr/lib64/blas/reference/libblas.so.0.0.0\r\n",
        "7fed494b5000-7fed494b6000 r--p 00057000 08:06 1207775                    /usr/lib64/blas/reference/libblas.so.0.0.0\r\n",
        "7fed494b6000-7fed494b7000 rw-p 00058000 08:06 1207775                    /usr/lib64/blas/reference/libblas.so.0.0.0\r\n",
        "7fed494b7000-7fed49927000 r-xp 00000000 08:06 1346951                    /usr/lib64/lapack/reference/liblapack.so.0.0.0\r\n",
        "7fed49927000-7fed49b26000 ---p 00470000 08:06 1346951                    /usr/lib64/lapack/reference/liblapack.so.0.0.0\r\n",
        "7fed49b26000-7fed49b27000 r--p 0046f000 08:06 1346951                    /usr/lib64/lapack/reference/liblapack.so.0.0.0\r\n",
        "7fed49b27000-7fed49b2b000 rw-p 00470000 08:06 1346951                    /usr/lib64/lapack/reference/liblapack.so.0.0.0\r\n",
        "7fed49b2b000-7fed49c38000 rw-p 00000000 00:00 0 \r\n",
        "7fed49c38000-7fed49d74000 r-xp 00000000 08:06 1186566                    /usr/lib64/libfftw3.so.3.3.2\r\n",
        "7fed49d74000-7fed49f73000 ---p 0013c000 08:06 1186566                    /usr/lib64/libfftw3.so.3.3.2\r\n",
        "7fed49f73000-7fed49f7f000 r--p 0013b000 08:06 1186566                    /usr/lib64/libfftw3.so.3.3.2\r\n",
        "7fed49f7f000-7fed49f80000 rw-p 00147000 08:06 1186566                    /usr/lib64/libfftw3.so.3.3.2\r\n",
        "7fed49f80000-7fed4a11d000 r-xp 00000000 08:05 398157                     /lib64/libc-2.19.so\r\n",
        "7fed4a11d000-7fed4a31c000 ---p 0019d000 08:05 398157                     /lib64/libc-2.19.so\r\n",
        "7fed4a31c000-7fed4a320000 r--p 0019c000 08:05 398157                     /lib64/libc-2.19.so\r\n",
        "7fed4a320000-7fed4a322000 rw-p 001a0000 08:05 398157                     /lib64/libc-2.19.so\r\n",
        "7fed4a322000-7fed4a326000 rw-p 00000000 00:00 0 \r\n",
        "7fed4a326000-7fed4a33b000 r-xp 00000000 08:05 396540                     /lib64/libgcc_s.so.1\r\n",
        "7fed4a33b000-7fed4a53b000 ---p 00015000 08:05 396540                     /lib64/libgcc_s.so.1\r\n",
        "7fed4a53b000-7fed4a53c000 r--p 00015000 08:05 396540                     /lib64/libgcc_s.so.1\r\n",
        "7fed4a53c000-7fed4a53d000 rw-p 00016000 08:05 396540                     /lib64/libgcc_s.so.1\r\n",
        "7fed4a53d000-7fed4a636000 r-xp 00000000 08:05 393476                     /lib64/libm-2.19.so\r\n",
        "7fed4a636000-7fed4a835000 ---p 000f9000 08:05 393476                     /lib64/libm-2.19.so\r\n",
        "7fed4a835000-7fed4a836000 r--p 000f8000 08:05 393476                     /lib64/libm-2.19.so\r\n",
        "7fed4a836000-7fed4a837000 rw-p 000f9000 08:05 393476                     /lib64/libm-2.19.so\r\n",
        "7fed4a837000-7fed4a923000 r-xp 00000000 08:06 1231965                    /usr/lib64/gcc/x86_64-pc-linux-gnu/4.8.3/libstdc++.so.6.0.19\r\n",
        "7fed4a923000-7fed4ab22000 ---p 000ec000 08:06 1231965                    /usr/lib64/gcc/x86_64-pc-linux-gnu/4.8.3/libstdc++.so.6.0.19\r\n",
        "7fed4ab22000-7fed4ab2a000 r--p 000eb000 08:06 1231965                    /usr/lib64/gcc/x86_64-pc-linux-gnu/4.8.3/libstdc++.so.6.0.19\r\n",
        "7fed4ab2a000-7fed4ab2c000 rw-p 000f3000 08:06 1231965                    /usr/lib64/gcc/x86_64-pc-linux-gnu/4.8.3/libstdc++.so.6.0.19\r\n",
        "7fed4ab2c000-7fed4ab41000 rw-p 00000000 00:00 0 \r\n",
        "7fed4ab41000-7fed4ab44000 r-xp 00000000 08:05 398154                     /lib64/libdl-2.19.so\r\n",
        "7fed4ab44000-7fed4ad43000 ---p 00003000 08:05 398154                     /lib64/libdl-2.19.so\r\n",
        "7fed4ad43000-7fed4ad44000 r--p 00002000 08:05 398154                     /lib64/libdl-2.19.so\r\n",
        "7fed4ad44000-7fed4ad45000 rw-p 00003000 08:05 398154                     /lib64/libdl-2.19.so\r\n",
        "7fed4ad45000-7fed4ad5e000 r-xp 00000000 08:05 398148                     /lib64/libpthread-2.19.so\r\n",
        "7fed4ad5e000-7fed4af5d000 ---p 00019000 08:05 398148                     /lib64/libpthread-2.19.so\r\n",
        "7fed4af5d000-7fed4af5e000 r--p 00018000 08:05 398148                     /lib64/libpthread-2.19.so\r\n",
        "7fed4af5e000-7fed4af5f000 rw-p 00019000 08:05 398148                     /lib64/libpthread-2.19.so\r\n",
        "7fed4af5f000-7fed4af63000 rw-p 00000000 00:00 0 \r\n",
        "7fed4af63000-7fed4af6a000 r-xp 00000000 08:05 393386                     /lib64/librt-2.19.so\r\n",
        "7fed4af6a000-7fed4b169000 ---p 00007000 08:05 393386                     /lib64/librt-2.19.so\r\n",
        "7fed4b169000-7fed4b16a000 r--p 00006000 08:05 393386                     /lib64/librt-2.19.so\r\n",
        "7fed4b16a000-7fed4b16b000 rw-p 00007000 08:05 393386                     /lib64/librt-2.19.so\r\n",
        "7fed4b16b000-7fed4b4a5000 r-xp 00000000 08:06 1187699                    /usr/lib64/libitpp.so.7.0.0\r\n",
        "7fed4b4a5000-7fed4b6a5000 ---p 0033a000 08:06 1187699                    /usr/lib64/libitpp.so.7.0.0\r\n",
        "7fed4b6a5000-7fed4b6ab000 r--p 0033a000 08:06 1187699                    /usr/lib64/libitpp.so.7.0.0\r\n",
        "7fed4b6ab000-7fed4b6b3000 rw-p 00340000 08:06 1187699                    /usr/lib64/libitpp.so.7.0.0\r\n",
        "7fed4b6b3000-7fed4b6c3000 rw-p 00000000 00:00 0 \r\n",
        "7fed4b6c3000-7fed4b6e4000 r-xp 00000000 08:05 398161                     /lib64/ld-2.19.so\r\n",
        "7fed4b6f6000-7fed4b6f7000 rw-p 00000000 00:00 0 \r\n",
        "7fed4b6f7000-7fed4b6f8000 rw-s 380e0fd62000 00:06 5486                   /dev/nvidia1\r\n",
        "7fed4b6f8000-7fed4b6f9000 rw-s 2c521e000 00:06 4725                      /dev/nvidiactl\r\n",
        "7fed4b6f9000-7fed4b6fa000 rw-s 380e0fd62000 00:06 5486                   /dev/nvidia1\r\n",
        "7fed4b6fa000-7fed4b6fb000 rw-s 28efa5000 00:06 4725                      /dev/nvidiactl\r\n",
        "7fed4b6fb000-7fed4b6fc000 rw-s 380e0fd61000 00:06 5486                   /dev/nvidia1\r\n",
        "7fed4b6fc000-7fed4b6fd000 rw-s 2c8bac000 00:06 4725                      /dev/nvidiactl\r\n",
        "7fed4b6fd000-7fed4b6fe000 rw-s 380e0fd61000 00:06 5486                   /dev/nvidia1\r\n",
        "7fed4b6fe000-7fed4b6ff000 rw-s 2c9cf0000 00:06 4725                      /dev/nvidiactl\r\n",
        "7fed4b6ff000-7fed4b71f000 rw-s 380e00180000 00:06 5486                   /dev/nvidia1\r\n",
        "7fed4b71f000-7fed4b720000 rw-s 380e0fd61000 00:06 5486                   /dev/nvidia1\r\n",
        "7fed4b720000-7fed4b721000 rw-s 1d0e86000 00:06 4725                      /dev/nvidiactl\r\n",
        "7fed4b721000-7fed4b741000 rw-s 380e00160000 00:06 5486                   /dev/nvidia1\r\n",
        "7fed4b741000-7fed4b742000 rw-s 380e0fd61000 00:06 5486                   /dev/nvidia1\r\n",
        "7fed4b742000-7fed4b743000 rw-s 31e5ad000 00:06 4725                      /dev/nvidiactl\r\n",
        "7fed4b743000-7fed4b763000 rw-s 380e00140000 00:06 5486                   /dev/nvidia1\r\n",
        "7fed4b763000-7fed4b764000 rw-s 380e0fd61000 00:06 5486                   /dev/nvidia1\r\n",
        "7fed4b764000-7fed4b765000 rw-s 2c5df4000 00:06 4725                      /dev/nvidiactl\r\n",
        "7fed4b765000-7fed4b785000 rw-s 380e00120000 00:06 5486                   /dev/nvidia1\r\n",
        "7fed4b785000-7fed4b786000 rw-s 380e0fd61000 00:06 5486                   /dev/nvidia1\r\n",
        "7fed4b786000-7fed4b787000 rw-s 3f2f9a000 00:06 4725                      /dev/nvidiactl\r\n",
        "7fed4b787000-7fed4b7a7000 rw-s 380e00100000 00:06 5486                   /dev/nvidia1\r\n",
        "7fed4b7a7000-7fed4b7a8000 rw-s 380e0fd61000 00:06 5486                   /dev/nvidia1\r\n",
        "7fed4b7a8000-7fed4b7a9000 rw-s 1d0f60000 00:06 4725                      /dev/nvidiactl\r\n",
        "7fed4b7a9000-7fed4b7c9000 rw-s 380e000e0000 00:06 5486                   /dev/nvidia1\r\n",
        "7fed4b7c9000-7fed4b7e9000 rw-s 380e000c0000 00:06 5486                   /dev/nvidia1\r\n",
        "7fed4b7e9000-7fed4b809000 rw-s 380e000a0000 00:06 5486                   /dev/nvidia1\r\n",
        "7fed4b809000-7fed4b829000 rw-s 380e00080000 00:06 5486                   /dev/nvidia1\r\n",
        "7fed4b829000-7fed4b849000 rw-s 380e00060000 00:06 5486                   /dev/nvidia1\r\n",
        "7fed4b849000-7fed4b869000 rw-s 380e00040000 00:06 5486                   /dev/nvidia1\r\n",
        "7fed4b869000-7fed4b889000 rw-s 380e00020000 00:06 5486                   /dev/nvidia1\r\n",
        "7fed4b889000-7fed4b8a9000 rw-s 380e00000000 00:06 5486                   /dev/nvidia1\r\n",
        "7fed4b8a9000-7fed4b8b2000 rw-p 00000000 00:00 0 \r\n",
        "7fed4b8b2000-7fed4b8b3000 rw-s 380e0fd61000 00:06 5486            "
       ]
      },
      {
       "output_type": "stream",
       "stream": "stdout",
       "text": [
        "       /dev/nvidia1\r\n",
        "7fed4b8b3000-7fed4b8b4000 rw-s 2c9d0f000 00:06 4725                      /dev/nvidiactl\r\n",
        "7fed4b8b4000-7fed4b8b5000 rw-s 380e0fd60000 00:06 5486                   /dev/nvidia1\r\n",
        "7fed4b8b5000-7fed4b8b6000 rw-s 414b86000 00:06 4725                      /dev/nvidiactl\r\n",
        "7fed4b8b6000-7fed4b8b7000 rw-s 380e0fd60000 00:06 5486                   /dev/nvidia1\r\n",
        "7fed4b8b7000-7fed4b8b8000 rw-s 416554000 00:06 4725                      /dev/nvidiactl\r\n",
        "7fed4b8b8000-7fed4b8b9000 rw-s 380e0fd60000 00:06 5486                   /dev/nvidia1\r\n",
        "7fed4b8b9000-7fed4b8ba000 rw-s 20a003000 00:06 4725                      /dev/nvidiactl\r\n",
        "7fed4b8ba000-7fed4b8bb000 rw-s 380e0fd60000 00:06 5486                   /dev/nvidia1\r\n",
        "7fed4b8bb000-7fed4b8bc000 rw-s 20a0fa000 00:06 4725                      /dev/nvidiactl\r\n",
        "7fed4b8bc000-7fed4b8bd000 rw-s 380e0fd60000 00:06 5486                   /dev/nvidia1\r\n",
        "7fed4b8bd000-7fed4b8be000 rw-s 413e49000 00:06 4725                      /dev/nvidiactl\r\n",
        "7fed4b8be000-7fed4b8bf000 rw-s 380e0fd60000 00:06 5486                   /dev/nvidia1\r\n",
        "7fed4b8bf000-7fed4b8c0000 rw-s 31bb17000 00:06 4725                      /dev/nvidiactl\r\n",
        "7fed4b8c0000-7fed4b8c1000 r--s fa000000 00:06 5486                       /dev/nvidia1\r\n",
        "7fed4b8c1000-7fed4b8e3000 rw-p 00000000 00:00 0 \r\n",
        "7fed4b8e3000-7fed4b8e4000 r--p 00020000 08:05 398161                     /lib64/ld-2.19.so\r\n",
        "7fed4b8e4000-7fed4b8e5000 rw-p 00021000 08:05 398161                     /lib64/ld-2.19.so\r\n",
        "7fed4b8e5000-7fed4b8e6000 rw-p 00000000 00:00 0 \r\n",
        "7fffd57f2000-7fffd5812000 rwxp 00000000 00:00 0                          [stack]\r\n",
        "7fffd5812000-7fffd5813000 rw-p 00000000 00:00 0 \r\n",
        "7fffd586f000-7fffd5870000 r-xp 00000000 00:00 0                          [vdso]\r\n",
        "ffffffffff600000-ffffffffff601000 r-xp 00000000 00:00 0                  [vsyscall]\r\n"
       ]
      },
      {
       "output_type": "stream",
       "stream": "stdout",
       "text": [
        "*** Error in `carlospg/qubits-CUDA/./abc': corrupted double-linked list: 0x0000000000dd4f20 ***\r\n"
       ]
      },
      {
       "output_type": "stream",
       "stream": "stdout",
       "text": [
        "Timeout, server 132.248.7.237 not responding.\r",
        "\r\n"
       ]
      },
      {
       "output_type": "stream",
       "stream": "stdout",
       "text": [
        "*** Error in `carlospg/qubits-CUDA/./abc': free(): invalid next size (normal): 0x0000000000dd4e30 ***\r\n",
        "======= Backtrace: =========\r\n"
       ]
      },
      {
       "output_type": "stream",
       "stream": "stdout",
       "text": [
        "/lib64/libc.so.6(+0x79033)[0x7f693195e033]\r\n",
        "/lib64/libc.so.6(+0x7ebc6)[0x7f6931963bc6]\r\n",
        "/lib64/libc.so.6(+0x7fd92)[0x7f6931964d92]\r\n",
        "/usr/lib64/libitpp.so.7(_ZN4itpp3MatIiED2Ev+0x12)[0x7f6932bbf772]\r\n",
        "carlospg/qubits-CUDA/./abc[0x435151]\r\n",
        "carlospg/qubits-CUDA/./abc[0x4362a3]\r\n",
        "/lib64/libc.so.6(__libc_start_main+0xf5)[0x7f6931909db5]\r\n",
        "carlospg/qubits-CUDA/./abc[0x40aa09]\r\n",
        "======= Memory map: ========\r\n",
        "00400000-004db000 r-xp 00000000 08:12 58851551                           /home/eduardo/carlospg/qubits-CUDA/abc\r\n",
        "006db000-006dd000 r--p 000db000 08:12 58851551                           /home/eduardo/carlospg/qubits-CUDA/abc\r\n",
        "006dd000-006de000 rw-p 000dd000 08:12 58851551                           /home/eduardo/carlospg/qubits-CUDA/abc\r\n",
        "006de000-00e84000 rw-p 00000000 00:00 0                                  [heap]\r\n",
        "200000000-200100000 rw-s 2d0708000 00:06 4725                            /dev/nvidiactl\r\n",
        "200100000-204100000 ---p 00000000 00:00 0 \r\n",
        "204100000-204200000 rw-s 3cab8000 00:06 4725                             /dev/nvidiactl\r\n",
        "204200000-204300000 ---p 00000000 00:00 0 \r\n",
        "204300000-204400000 rw-s 3f3666000 00:06 4725                            /dev/nvidiactl\r\n",
        "204400000-d00000000 ---p 00000000 00:00 0 \r\n",
        "7f6926800000-7f6926c00000 rw-s 84db5000 00:06 4725                       /dev/nvidiactl\r\n",
        "7f6926c00000-7f6927000000 rw-s 6dd85000 00:06 4725                       /dev/nvidiactl\r\n",
        "7f6927000000-7f6927400000 rw-s 872ee000 00:06 4725                       /dev/nvidiactl\r\n",
        "7f6927400000-7f6927800000 rw-s 62187000 00:06 4725                       /dev/nvidiactl\r\n",
        "7f6927800000-7f6927c00000 rw-s 851fb000 00:06 4725                       /dev/nvidiactl\r\n",
        "7f6927c00000-7f6928000000 rw-s 02e6e000 00:06 4725                       /dev/nvidiactl\r\n",
        "7f6928000000-7f6928021000 rw-p 00000000 00:00 0 \r\n",
        "7f6928021000-7f692c000000 ---p 00000000 00:00 0 \r\n",
        "7f692c1dd000-7f692c2dd000 rw-s 70e17000 00:06 4725                       /dev/nvidiactl\r\n",
        "7f692c2dd000-7f692c3dd000 rw-s 27534f000 00:06 4725                      /dev/nvidiactl\r\n",
        "7f692c3dd000-7f692c7dd000 rw-s 5cb96000 00:06 4725                       /dev/nvidiactl\r\n",
        "7f692c7dd000-7f692cbdd000 rw-s 279a47000 00:06 4725                      /dev/nvidiactl\r\n",
        "7f692cbdd000-7f692cfdd000 rw-s 2943e1000 00:06 4725                      /dev/nvidiactl\r\n",
        "7f692cfdd000-7f692d3dd000 rw-s 2cb634000 00:06 4725                      /dev/nvidiactl\r\n",
        "7f692d3dd000-7f692d7dd000 rw-s 183632000 00:06 4725                      /dev/nvidiactl\r\n",
        "7f692d7dd000-7f692dbdd000 rw-s 171641000 00:06 4725                      /dev/nvidiactl\r\n",
        "7f692dbdd000-7f692dfdd000 rw-s 3981fb000 00:06 4725                      /dev/nvidiactl\r\n",
        "7f692dfdd000-7f692e3dd000 rw-s 322a41000 00:06 4725                      /dev/nvidiactl\r\n",
        "7f692e3dd000-7f692e7dd000 rw-s 322b2d000 00:06 4725                      /dev/nvidiactl\r\n",
        "7f692e7dd000-7f692ebdd000 rw-s 1cac43000 00:06 4725                      /dev/nvidiactl\r\n",
        "7f692ebdd000-7f692ebde000 ---p 00000000 00:00 0 \r\n",
        "7f692ebde000-7f692f3de000 rwxp 00000000 00:00 0                          [stack:9258]\r\n",
        "7f692f3de000-7f692f5df000 rw-p 00000000 00:00 0 \r\n",
        "7f692f5ff000-7f692f680000 rw-s 2ac6d0000 00:06 4725                      /dev/nvidiactl\r\n",
        "7f692f680000-7f692f780000 rw-s 345da8000 00:06 4725                      /dev/nvidiactl\r\n",
        "7f692f780000-7f692f7a0000 rw-s 380e003e0000 00:06 5486                   /dev/nvidia1\r\n",
        "7f692f7a0000-7f692f7c0000 rw-s 380e003c0000 00:06 5486                   /dev/nvidia1\r\n",
        "7f692f7c0000-7f692f7e0000 rw-s 380e003a0000 00:06 5486                   /dev/nvidia1\r\n",
        "7f692f7e0000-7f69302a4000 r-xp 00000000 08:06 1179743                    /usr/lib64/libcuda.so.346.35\r\n",
        "7f69302a4000-7f69304a4000 ---p 00ac4000 08:06 1179743                    /usr/lib64/libcuda.so.346.35\r\n",
        "7f69304a4000-7f6930656000 rw-p 00ac4000 08:06 1179743                    /usr/lib64/libcuda.so.346.35\r\n",
        "7f6930656000-7f693066b000 rw-p 00000000 00:00 0 \r\n",
        "7f693066b000-7f69306a6000 r-xp 00000000 08:06 1231958                    /usr/lib64/gcc/x86_64-pc-linux-gnu/4.8.3/libquadmath.so.0.0.0\r\n",
        "7f69306a6000-7f69308a5000 ---p 0003b000 08:06 1231958                    /usr/lib64/gcc/x86_64-pc-linux-gnu/4.8.3/libquadmath.so.0.0.0\r\n",
        "7f69308a5000-7f69308a6000 r--p 0003a000 08:06 1231958                    /usr/lib64/gcc/x86_64-pc-linux-gnu/4.8.3/libquadmath.so.0.0.0\r\n",
        "7f69308a6000-7f69308a7000 rw-p 0003b000 08:06 1231958                    /usr/lib64/gcc/x86_64-pc-linux-gnu/4.8.3/libquadmath.so.0.0.0\r\n",
        "7f69308a7000-7f69309c0000 r-xp 00000000 08:06 1182344                    /usr/lib64/gcc/x86_64-pc-linux-gnu/4.8.3/libgfortran.so.3.0.0\r\n",
        "7f69309c0000-7f6930bc0000 ---p 00119000 08:06 1182344                    /usr/lib64/gcc/x86_64-pc-linux-gnu/4.8.3/libgfortran.so.3.0.0\r\n",
        "7f6930bc0000-7f6930bc1000 r--p 00119000 08:06 1182344                    /usr/lib64/gcc/x86_64-pc-linux-gnu/4.8.3/libgfortran.so.3.0.0\r\n",
        "7f6930bc1000-7f6930bc3000 rw-p 0011a000 08:06 1182344                    /usr/lib64/gcc/x86_64-pc-linux-gnu/4.8.3/libgfortran.so.3.0.0\r\n",
        "7f6930bc3000-7f6930c1b000 r-xp 00000000 08:06 1207775                    /usr/lib64/blas/reference/libblas.so.0.0.0\r\n",
        "7f6930c1b000-7f6930e1a000 ---p 00058000 08:06 1207775                    /usr/lib64/blas/reference/libblas.so.0.0.0\r\n",
        "7f6930e1a000-7f6930e1b000 r--p 00057000 08:06 1207775                    /usr/lib64/blas/reference/libblas.so.0.0.0\r\n",
        "7f6930e1b000-7f6930e1c000 rw-p 00058000 08:06 1207775                    /usr/lib64/blas/reference/libblas.so.0.0.0\r\n",
        "7f6930e1c000-7f693128c000 r-xp 00000000 08:06 1346951                    /usr/lib64/lapack/reference/liblapack.s"
       ]
      },
      {
       "output_type": "stream",
       "stream": "stdout",
       "text": [
        "o.0.0.0\r\n",
        "7f693128c000-7f693148b000 ---p 00470000 08:06 1346951                    /usr/lib64/lapack/reference/liblapack.so.0.0.0\r\n",
        "7f693148b000-7f693148c000 r--p 0046f000 08:06 1346951                    /usr/lib64/lapack/reference/liblapack.so.0.0.0\r\n",
        "7f693148c000-7f6931490000 rw-p 00470000 08:06 1346951                    /usr/lib64/lapack/reference/liblapack.so.0.0.0\r\n",
        "7f6931490000-7f693159d000 rw-p 00000000 00:00 0 \r\n",
        "7f693159d000-7f69316d9000 r-xp 00000000 08:06 1186566                    /usr/lib64/libfftw3.so.3.3.2\r\n",
        "7f69316d9000-7f69318d8000 ---p 0013c000 08:06 1186566                    /usr/lib64/libfftw3.so.3.3.2\r\n",
        "7f69318d8000-7f69318e4000 r--p 0013b000 08:06 1186566                    /usr/lib64/libfftw3.so.3.3.2\r\n",
        "7f69318e4000-7f69318e5000 rw-p 00147000 08:06 1186566                    /usr/lib64/libfftw3.so.3.3.2\r\n",
        "7f69318e5000-7f6931a82000 r-xp 00000000 08:05 398157                     /lib64/libc-2.19.so\r\n",
        "7f6931a82000-7f6931c81000 ---p 0019d000 08:05 398157                     /lib64/libc-2.19.so\r\n",
        "7f6931c81000-7f6931c85000 r--p 0019c000 08:05 398157                     /lib64/libc-2.19.so\r\n",
        "7f6931c85000-7f6931c87000 rw-p 001a0000 08:05 398157                     /lib64/libc-2.19.so\r\n",
        "7f6931c87000-7f6931c8b000 rw-p 00000000 00:00 0 \r\n",
        "7f6931c8b000-7f6931ca0000 r-xp 00000000 08:05 396540                     /lib64/libgcc_s.so.1\r\n",
        "7f6931ca0000-7f6931ea0000 ---p 00015000 08:05 396540                     /lib64/libgcc_s.so.1\r\n",
        "7f6931ea0000-7f6931ea1000 r--p 00015000 08:05 396540                     /lib64/libgcc_s.so.1\r\n",
        "7f6931ea1000-7f6931ea2000 rw-p 00016000 08:05 396540                     /lib64/libgcc_s.so.1\r\n",
        "7f6931ea2000-7f6931f9b000 r-xp 00000000 08:05 393476                     /lib64/libm-2.19.so\r\n",
        "7f6931f9b000-7f693219a000 ---p 000f9000 08:05 393476                     /lib64/libm-2.19.so\r\n",
        "7f693219a000-7f693219b000 r--p 000f8000 08:05 393476                     /lib64/libm-2.19.so\r\n",
        "7f693219b000-7f693219c000 rw-p 000f9000 08:05 393476                     /lib64/libm-2.19.so\r\n",
        "7f693219c000-7f6932288000 r-xp 00000000 08:06 1231965                    /usr/lib64/gcc/x86_64-pc-linux-gnu/4.8.3/libstdc++.so.6.0.19\r\n",
        "7f6932288000-7f6932487000 ---p 000ec000 08:06 1231965                    /usr/lib64/gcc/x86_64-pc-linux-gnu/4.8.3/libstdc++.so.6.0.19\r\n",
        "7f6932487000-7f693248f000 r--p 000eb000 08:06 1231965                    /usr/lib64/gcc/x86_64-pc-linux-gnu/4.8.3/libstdc++.so.6.0.19\r\n",
        "7f693248f000-7f6932491000 rw-p 000f3000 08:06 1231965                    /usr/lib64/gcc/x86_64-pc-linux-gnu/4.8.3/libstdc++.so.6.0.19\r\n",
        "7f6932491000-7f69324a6000 rw-p 00000000 00:00 0 \r\n",
        "7f69324a6000-7f69324a9000 r-xp 00000000 08:05 398154                     /lib64/libdl-2.19.so\r\n",
        "7f69324a9000-7f69326a8000 ---p 00003000 08:05 398154                     /lib64/libdl-2.19.so\r\n",
        "7f69326a8000-7f69326a9000 r--p 00002000 08:05 398154                     /lib64/libdl-2.19.so\r\n",
        "7f69326a9000-7f69326aa000 rw-p 00003000 08:05 398154                     /lib64/libdl-2.19.so\r\n",
        "7f69326aa000-7f69326c3000 r-xp 00000000 08:05 398148                     /lib64/libpthread-2.19.so\r\n",
        "7f69326c3000-7f69328c2000 ---p 00019000 08:05 398148                     /lib64/libpthread-2.19.so\r\n",
        "7f69328c2000-7f69328c3000 r--p 00018000 08:05 398148                     /lib64/libpthread-2.19.so\r\n",
        "7f69328c3000-7f69328c4000 rw-p 00019000 08:05 398148                     /lib64/libpthread-2.19.so\r\n",
        "7f69328c4000-7f69328c8000 rw-p 00000000 00:00 0 \r\n",
        "7f69328c8000-7f69328cf000 r-xp 00000000 08:05 393386                     /lib64/librt-2.19.so\r\n",
        "7f69328cf000-7f6932ace000 ---p 00007000 08:05 393386                     /lib64/librt-2.19.so\r\n",
        "7f6932ace000-7f6932acf000 r--p 00006000 08:05 393386                     /lib64/librt-2.19.so\r\n",
        "7f6932acf000-7f6932ad0000 rw-p 00007000 08:05 393386                     /lib64/librt-2.19.so\r\n",
        "7f6932ad0000-7f6932e0a000 r-xp 00000000 08:06 1187699                    /usr/lib64/libitpp.so.7.0.0\r\n",
        "7f6932e0a000-7f693300a000 ---p 0033a000 08:06 1187699                    /usr/lib64/libitpp.so.7.0.0\r\n",
        "7f693300a000-7f6933010000 r--p 0033a000 08:06 1187699                    /usr/lib64/libitpp.so.7.0.0\r\n",
        "7f6933010000-7f6933018000 rw-p 00340000 08:06 1187699                    /usr/lib64/libitpp.so.7.0.0\r\n",
        "7f6933018000-7f6933028000 rw-p 00000000 00:00 0 \r\n",
        "7f6933028000-7f6933049000 r-xp 00000000 08:05 398161                     /lib64/ld-2.19.so\r\n",
        "7f693305b000-7f693305c000 rw-p 00000000 00:00 0 \r\n",
        "7f693305c000-7f693305d000 rw-s 380e0fd64000 00:06 5486                   /dev/nvidia1\r\n",
        "7f693305d000-7f693305e000 rw-s 3cab4000 00:06 4725                       /dev/nvidiactl\r\n",
        "7f693305e000-7f693305f000 rw-s 380e0fd64000 00:06 5486                   /dev/nvidia1\r\n",
        "7f693305f000-7f6933060000 rw-s 42ad2000 00:06 4725                       /dev/nvidiactl\r\n",
        "7f6933060000-7f6933061000 rw-s 380e0fd63000 00:06 5486                   /dev/nvidia1\r\n",
        "7f6933061000-7f6933062000 rw-s 857be000 00:06 4725                       /dev/nvidiactl\r\n",
        "7f6933062000-7f6933063000 rw-s 380e0fd63000 00:06 5486                   /dev/nvidia1\r\n",
        "7f6933063000-7f6933064000 rw-s 872d5000 00:06 4725                       /dev/nvidiactl\r\n",
        "7f6933064000-7f6933084000 rw-s 380e00380000 00:06 5486                   /dev/nvidia1\r\n",
        "7f6933084000-7f6933085000 rw-s 380e0fd63000 00:06 5486                   /dev/nvidia1\r\n",
        "7f6933085000-7f6933086000 rw-s 621dc000 00:06 4725                       /dev/nvidiactl\r\n",
        "7f6933086000-7f69330a6000 rw-s 380e00360000 00:06 5486                   /dev/nvidia1\r\n",
        "7f69330a6000-7f69330a7000 rw-s 380e0fd63000 00:06 5486                   /dev/nvidia1\r\n",
        "7f69330a7000-7f69330a8000 rw-s 4031a7000 00:06 4725                      /dev/nvidiactl\r\n",
        "7f69330a8000-7f69330c8000 rw-s 380e00340000 00:06 5486                   /dev/nvidia1\r\n",
        "7f69330c8000-7f69330c9000 rw-s 380e0fd63000 00:06 5486                   /dev/nvidia1\r\n",
        "7f69330c9000-7f69330ca000 rw-s 109030000 00:06 4725                      /dev/nvidiactl\r\n",
        "7f69330ca000-7f69330ea000 rw-s 380e00320000 00:06 5486                   /dev/nvidia1\r\n",
        "7f69330ea000-7f69330eb000 rw-s 380e0fd63000 00:06 5486                   /dev/nvidia1\r\n",
        "7f69330eb000-7f69330ec000 rw-s 1cb0ef000 00:06 4725                      /dev/nvidiactl\r\n",
        "7f69330ec000-7f693310c000 rw-s 380e00300000 00:06 5486                   /dev/nvidia1\r\n",
        "7f693310c000-7f693310d000 rw-s 380e0fd63000 00:06 5486                   /dev/nvidia1\r\n",
        "7f693310d000-7f693310e000 rw-s 279aac000 00:06 4725                      /dev/nvidiactl\r\n",
        "7f693310e000-7f693312e000 rw-s 380e002e0000 00:06 5486                   /dev/nvidia1\r\n",
        "7f693312e000-7f693314e000 rw-s 380e002c0000 00:06 5486                   /dev/nvidia1\r\n",
        "7f693314e000-7f693316e000 rw-s 380e002a0000 00:06 5486                   /dev/nvidia1\r\n",
        "7f693316e000-7f693318e000 rw-s 380e00280000 00:06 5486                   /dev/nvidia1\r\n",
        "7f693318e000-7f69331ae000 rw-s 380e00260000 00:06 5486                   /dev/nvidia1\r\n",
        "7f69331ae000-7f69331ce000 rw-s 380e00240000 00:06 5486                   /dev/nvidia1\r\n",
        "7f69331ce000-7f69331ee000 rw-s 380e00220000 00:06 5486                   /dev/nvidia1\r\n",
        "7f69331ee000-7f693320e000 rw-s 380e00200000 00:06 5486                   /dev/nvidia1\r\n",
        "7f693320e000-7f6933217000 rw-p 00000000 00:00 0 \r\n",
        "7f6933217000-7f6933218000 rw-s 380e0fd63000 00:06 5486                   /dev/nvidia1\r\n",
        "7f6933218000-7f6933219000 rw-s 294376000 00:06 4725                      /dev/nvidiactl\r\n",
        "7f6933219000-7f693321a000 rw-s 380e0fd62000 00:06 5486                   /dev/nvidia1\r\n",
        "7f693321a000-7f693321b000 rw-s 2cb793000 00:06 4725                      /dev/nvidiactl\r\n",
        "7f693321b000-7f693321c000 rw-s 380e0fd62000 00:06 5486                   /dev/nvidia1\r\n",
        "7f693321c000-7f693321d000 rw-s 183625000 00:06 4725                      /dev/nvidiactl\r\n",
        "7f693321d000-7f693321e000 rw-s 380e0fd62000 00:06 5486                   /dev/nvidia1\r\n",
        "7f693321e000-7f693321f000 rw-s 279eab000 00:06 4725                      /dev/nvidiactl\r\n",
        "7f693321f000-7f6933220000 rw-s 380e0fd62000 00:06 5486                   /dev/nvidia1\r\n",
        "7f6933220000-7f6933221000 rw-s 3981f1000 00:06 4725                      /dev/nvidiactl\r\n",
        "7f6933221000-7f6933222000 rw-s 380e0fd62000 00:06 5486                   /dev/nvidia1\r\n",
        "7f6933222000-7f6933223000 rw-s 2c9f9e000 00:06 4725                      /dev/nvidiactl\r\n",
        "7f6933223000-7f6933224000 rw-s 380e0fd62000 00"
       ]
      },
      {
       "output_type": "stream",
       "stream": "stdout",
       "text": [
        ":06 5486                   /dev/nvidia1\r\n",
        "7f6933224000-7f6933225000 rw-s 322b2b000 00:06 4725                      /dev/nvidiactl\r\n",
        "7f6933225000-7f6933226000 r--s fa000000 00:06 5486                       /dev/nvidia1\r\n",
        "7f6933226000-7f6933248000 rw-p 00000000 00:00 0 \r\n",
        "7f6933248000-7f6933249000 r--p 00020000 08:05 398161                     /lib64/ld-2.19.so\r\n",
        "7f6933249000-7f693324a000 rw-p 00021000 08:05 398161                     /lib64/ld-2.19.so\r\n",
        "7f693324a000-7f693324b000 rw-p 00000000 00:00 0 \r\n",
        "7fffbf6ad000-7fffbf6cd000 rwxp 00000000 00:00 0                          [stack]\r\n",
        "7fffbf6cd000-7fffbf6ce000 rw-p 00000000 00:00 0 \r\n",
        "7fffbf7ff000-7fffbf800000 r-xp 00000000 00:00 0                          [vdso]\r\n",
        "ffffffffff600000-ffffffffff601000 r-xp 00000000 00:00 0                  [vsyscall]\r\n"
       ]
      },
      {
       "output_type": "stream",
       "stream": "stdout",
       "text": [
        "*** Error in `carlospg/qubits-CUDA/./abc': free(): invalid next size (normal): 0x0000000000dd4e30 ***\r\n",
        "======= Backtrace: =========\r\n",
        "/lib64/libc.so.6(+0x79033)[0x7f8b64415033]\r\n",
        "/lib64/libc.so.6(+0x7ebc6)[0x7f8b6441abc6]\r\n",
        "/lib64/libc.so.6(+0x7fd92)[0x7f8b6441bd92]\r\n",
        "/usr/lib64/libitpp.so.7(_ZN4itpp3MatIiED2Ev+0x12)[0x7f8b65676772]\r\n",
        "carlospg/qubits-CUDA/./abc[0x435151]\r\n"
       ]
      },
      {
       "output_type": "stream",
       "stream": "stdout",
       "text": [
        "carlospg/qubits-CUDA/./abc[0x4362a3]\r\n",
        "/lib64/libc.so.6(__libc_start_main+0xf5)[0x7f8b643c0db5]\r\n",
        "carlospg/qubits-CUDA/./abc[0x40aa09]\r\n",
        "======= Memory map: ========\r\n",
        "00400000-004db000 r-xp 00000000 08:12 58851551                           /home/eduardo/carlospg/qubits-CUDA/abc\r\n",
        "006db000-006dd000 r--p 000db000 08:12 58851551                           /home/eduardo/carlospg/qubits-CUDA/abc\r\n",
        "006dd000-006de000 rw-p 000dd000 08:12 58851551                           /home/eduardo/carlospg/qubits-CUDA/abc\r\n",
        "006de000-00e84000 rw-p 00000000 00:00 0                                  [heap]\r\n",
        "200000000-200100000 rw-s 40c8c8000 00:06 4725                            /dev/nvidiactl\r\n",
        "200100000-204100000 ---p 00000000 00:00 0 \r\n",
        "204100000-204200000 rw-s 6e540000 00:06 4725                             /dev/nvidiactl\r\n",
        "204200000-204300000 ---p 00000000 00:00 0 \r\n",
        "204300000-204400000 rw-s 2cad13000 00:06 4725                            /dev/nvidiactl\r\n",
        "204400000-d00000000 ---p 00000000 00:00 0 \r\n",
        "7f8b59400000-7f8b59800000 rw-s 5fe87000 00:06 4725                       /dev/nvidiactl\r\n",
        "7f8b59800000-7f8b59c00000 rw-s 8b2ab000 00:06 4725                       /dev/nvidiactl\r\n",
        "7f8b59c00000-7f8b5a000000 rw-s 89010000 00:06 4725                       /dev/nvidiactl\r\n",
        "7f8b5a000000-7f8b5a400000 rw-s 6be57000 00:06 4725                       /dev/nvidiactl\r\n",
        "7f8b5a400000-7f8b5a800000 rw-s 5d804000 00:06 4725                       /dev/nvidiactl\r\n",
        "7f8b5a800000-7f8b5ac00000 rw-s 848f7000 00:06 4725                       /dev/nvidiactl\r\n",
        "7f8b5ac00000-7f8b5b000000 rw-s 6c04a000 00:06 4725                       /dev/nvidiactl\r\n",
        "7f8b5b000000-7f8b5b400000 rw-s 3f88e000 00:06 4725                       /dev/nvidiactl\r\n",
        "7f8b5b400000-7f8b5b800000 rw-s 79a13000 00:06 4725                       /dev/nvidiactl\r\n",
        "7f8b5b800000-7f8b5bc00000 rw-s 02f6a000 00:06 4725                       /dev/nvidiactl\r\n",
        "7f8b5bc00000-7f8b5c000000 rw-s 322bdc000 00:06 4725                      /dev/nvidiactl\r\n",
        "7f8b5c000000-7f8b5c021000 rw-p 00000000 00:00 0 \r\n",
        "7f8b5c021000-7f8b60000000 ---p 00000000 00:00 0 \r\n",
        "7f8b60094000-7f8b60194000 rw-s 28f3c000 00:06 4725                       /dev/nvidiactl\r\n",
        "7f8b60194000-7f8b60294000 rw-s 2c55ec000 00:06 4725                      /dev/nvidiactl\r\n",
        "7f8b60294000-7f8b60694000 rw-s 1c2baa000 00:06 4725                      /dev/nvidiactl\r\n",
        "7f8b60694000-7f8b60a94000 rw-s 1d5424000 00:06 4725                      /dev/nvidiactl\r\n",
        "7f8b60a94000-7f8b60e94000 rw-s 281329000 00:06 4725                      /dev/nvidiactl\r\n",
        "7f8b60e94000-7f8b61294000 rw-s 1716e6000 00:06 4725                      /dev/nvidiactl\r\n",
        "7f8b61294000-7f8b61694000 rw-s 3ebaf4000 00:06 4725                      /dev/nvidiactl\r\n",
        "7f8b61694000-7f8b61695000 ---p 00000000 00:00 0 \r\n",
        "7f8b61695000-7f8b61e95000 rwxp 00000000 00:00 0                          [stack:9288]\r\n",
        "7f8b61e95000-7f8b62096000 rw-p 00000000 00:00 0 \r\n",
        "7f8b620b6000-7f8b62137000 rw-s 347951000 00:06 4725                      /dev/nvidiactl\r\n",
        "7f8b62137000-7f8b62237000 rw-s 2cb70f000 00:06 4725                      /dev/nvidiactl\r\n",
        "7f8b62237000-7f8b62257000 rw-s 380e003e0000 00:06 5486                   /dev/nvidia1\r\n",
        "7f8b62257000-7f8b62277000 rw-s 380e003c0000 00:06 5486                   /dev/nvidia1\r\n",
        "7f8b62277000-7f8b62297000 rw-s 380e003a0000 00:06 5486                   /dev/nvidia1\r\n",
        "7f8b62297000-7f8b62d5b000 r-xp 00000000 08:06 1179743                    /usr/lib64/libcuda.so.346.35\r\n",
        "7f8b62d5b000-7f8b62f5b000 ---p 00ac4000 08:06 1179743                    /usr/lib64/libcuda.so.346.35\r\n",
        "7f8b62f5b000-7f8b6310d000 rw-p 00ac4000 08:06 1179743                    /usr/lib64/libcuda.so.346.35\r\n",
        "7f8b6310d000-7f8b63122000 rw-p 00000000 00:00 0 \r\n",
        "7f8b63122000-7f8b6315d000 r-xp 00000000 08:06 1231958                    /usr/lib64/gcc/x86_64-pc-linux-gnu/4.8.3/libquadmath.so.0.0.0\r\n",
        "7f8b6315d000-7f8b6335c000 ---p 0003b000 08:06 1231958                    /usr/lib64/gcc/x86_64-pc-linux-gnu/4.8.3/libquadmath.so.0.0.0\r\n",
        "7f8b6335c000-7f8b6335d000 r--p 0003a000 08:06 1231958                    /usr/lib64/gcc/x86_64-pc-linux-gnu/4.8.3/libquadmath.so.0.0.0\r\n",
        "7f8b6335d000-7f8b6335e000 rw-p 0003b000 08:06 1231958                    /usr/lib64/gcc/x86_64-pc-linux-gnu/4.8.3/libquadmath.so.0.0.0\r\n",
        "7f8b6335e000-7f8b63477000 r-xp 00000000 08:06 1182344                    /usr/lib64/gcc/x86_64-pc-linux-gnu/4.8.3/libgfortran.so.3.0.0\r\n",
        "7f8b63477000-7f8b63677000 ---p 00119000 08:06 1182344                    /usr/lib64/gcc/x86_64-pc-linux-gnu/4.8.3/libgfortran.so.3.0.0\r\n",
        "7f8b63677000-7f8b63678000 r--p 00119000 08:06 1182344                    /usr/lib64/gcc/x86_64-pc-linux-gnu/4.8.3/libgfortran.so.3.0.0\r\n",
        "7f8b63678000-7f8b6367a000 rw-p 0011a000 08:06 1182344                    /usr/lib64/gcc/x86_64-pc-linux-gnu/4.8.3/libgfortran.so.3.0.0\r\n",
        "7f8b6367a000-7f8b636d2000 r-xp 00000000 08:06 1207775                    /usr/lib64/blas/reference/libblas.so.0.0.0\r\n",
        "7f8b636d2000-7f8b638d1000 ---p 00058000 08:06 1207775                    /usr/lib64/blas/reference/libblas.so.0.0.0\r\n",
        "7f8b638d1000-7f8b638d2000 r--p 00057000 08:06 1207775                    /usr/lib64/blas/reference/libblas.so.0.0.0\r\n",
        "7f8b638d2000-7f8b638d3000 rw-p 00058000 08:06 1207775                    /usr/lib64/blas/reference/libblas.so.0.0.0\r\n",
        "7f8b638d3000-7f8b63d43000 r-xp 00000000 08:06 1346951                    /usr/lib64/lapack/reference/liblapack.so.0.0.0\r\n",
        "7f8b63d43000-7f8b63f42000 ---p 00470000 08:06 1346951                    /usr/lib64/lapack/reference/liblapack.so.0.0.0\r\n",
        "7f8b63f42000-7f8b63f43000 r--p 0046f000 08:06 1346951                    /usr/lib64/lapack/reference/liblapack.so.0.0.0\r\n",
        "7f8b63f43000-7f8b63f47000 rw-p 00470000 08:06 1346951                    /usr/lib64/lapack/reference/liblapack.so.0.0.0\r\n",
        "7f8b63f47000-7f8b64054000 rw-p 00000000 00:00 0 \r\n",
        "7f8b64054000-7f8b64190000 r-xp 00000000 08:06 1186566                    /usr/lib64/libfftw3.so.3.3.2\r\n",
        "7f8b64190000-7f8b6438f000 ---p 0013c000 08:06 1186566                    /usr/lib64/libfftw3.so.3.3.2\r\n",
        "7f8b6438f000-7f8b6439b000 r--p 0013b000 08:06 1186566                    /usr/lib64/libfftw3.so.3.3.2\r\n",
        "7f8b6439b000-7f8b6439c000 rw-p 00147000 08:06 1186566                    /usr/lib64/libfftw3.so.3.3.2\r\n",
        "7f8b6439c000-7f8b64539000 r-xp 00000000 08:05 398157                     /lib64/libc-2.19.so\r\n",
        "7f8b64539000-7f8b64738000 ---p 0019d000 08:05 398157                     /lib64/libc-2.19.so\r\n",
        "7f8b64738000-7f8b6473c000 r--p 0019c000 08:05 398157                     /lib64/libc-2.19.so\r\n",
        "7f8b6473c000-7f8b6473e000 rw-p 001a0000 08:05 398157                     /lib64/libc-2.19.so\r\n",
        "7f8b6473e000-7f8b64742000 rw-p 00000000 00:00 0 \r\n",
        "7f8b64742000-7f8b64757000 r-xp 00000000 08:05 396540                     /lib64/libgcc_s.so.1\r\n",
        "7f8b64757000-7f8b64957000 ---p 00015000 08:05 396540                     /lib64/libgcc_s.so.1\r\n",
        "7f8b64957000-7f8b64958000 r--p 00015000 08:05 396540                     /lib64/libgcc_s.so.1\r\n",
        "7f8b64958000-7f8b64959000 rw-p 00016000 08:05 396540                     /lib64/libgcc_s.so.1\r\n",
        "7f8b64959000-7f8b64a52000 r-xp 00000000 08:05 393476                     /lib64/libm-2.19.so\r\n",
        "7f8b64a52000-7f8b64c51000 ---p 000f9000 08:05 393476                     /lib64/libm-2.19.so\r\n",
        "7f8b64c51000-7f8b64c52000 r--p 000f8000 08:05 393476                     /lib64/libm-2.19.so\r\n",
        "7f8b64c52000-7f8b64c53000 rw-p 000f9000 08:05 393476                     /lib64/libm-2.19.so\r\n",
        "7f8b64c53000-7f8b64d3f000 r-xp 00000000 08:06 1231965                    /usr/lib64/gcc/x86_64-pc-linux-gnu/4.8.3/libstdc++.so.6.0.19\r\n",
        "7f8b64d3f000-7f8b64f3e000 ---p 000ec000 08:06 1231965                    /usr/lib64/gcc/x86_64-pc-linux-gnu/4.8.3/libstdc++.so.6.0.19\r\n",
        "7f8b64f3e000-7f8b64f46000 r--p 000eb000 08:06 1231965                    /usr/lib64/gcc/x86_64-pc-linux-gnu/4.8.3/libstdc++.so.6.0.19\r\n",
        "7f8b64f46000-7f8b64f48000 rw-p 000f3000 08:06 1231965                    /usr/lib64/gcc/x86_64-pc-linux-gnu/4.8.3/libstdc++.so.6.0.19\r\n",
        "7f8b64f48000-7f8b64f5d000 rw-p 00000000 00:00 0 \r\n",
        "7f8b64f5d000-7f8b64f60000 r-xp 00000000 08:05 398154                     /lib64/libdl-2.19.so\r\n",
        "7f8b64f60000-7f8b6515f000 ---p 00003000 08:05 398154                     /lib64/libdl-2.19.so\r\n",
        "7f8b6515f000-7f8b65160000 r--p 00002000 08:05 398154                     /lib64/libdl-2.19.so\r\n",
        "7f8b65160000-7f8b65161000 rw-p 00003000 08:05 398154                     /lib64/libdl-2.19.so\r\n",
        "7f8b65161000-7f8b6517a000 r-xp 00000000 08:05 398148                     /lib64/libpthread-2.19.so\r\n",
        "7f8b6517a000-7f8b65379000 ---p 00019000 08:05 398148                     /lib64/libpthread-2.19.so\r\n",
        "7f8b65379000-7f8b6537a000 r--p 00018000 08:05 398148                     /lib64/libpthread-2.19.so\r\n",
        "7f8b6537a000-7f8b6537b000 rw-p 00019000 08:05 398148                     /lib64/libpthread-2.19.so\r\n",
        "7f8b6537b000-7f8b6537f000 rw-p 00000000 00:00 0 \r\n",
        "7f8b6537f000-7f8b65386000 r-xp 00000000 08:05 393386                     /lib64/librt-2.19.so\r\n",
        "7f8b65386000-7f8b65585000 ---p 00007000 08:05 393386                     /lib64/librt-2.19.so\r\n",
        "7f8b65585000-7f8b65586000 r--p 00006000 08:05 393386                     /lib64/librt-2.19.so\r\n",
        "7f8b65586000-7f8b65587000 rw-p 00007000 08:05 393386                     /lib64/librt-2.19.so\r\n",
        "7f8b65587000-7f8b658c1000 r-xp 00000000 08:06 1187699                    /usr/lib64/libitpp.so.7.0.0\r\n",
        "7f8b658c1000-7f8b65ac1000 ---p 0033a000 08:06 1187699                    /usr/lib64/libitpp.so.7.0.0\r\n",
        "7f8b65ac1000-7f8b65ac7000 r--p 0033a000 08:06 1187699                    /usr/lib64/libitpp.so.7.0.0\r\n",
        "7f8b65ac7000-7f8b65acf000 rw-p 00340000 08:06 1187699                    /usr/lib64/libitpp.so.7.0.0\r\n",
        "7f8b65acf000-7f8b65adf000 rw-p 00000000 00:00 0 \r\n",
        "7f8b65adf000-7f8b65b00000 r-xp 00000000 08:05 398161                     /lib64/ld-2.19.so\r\n",
        "7f8b65b12000-7f8b65b13000 rw-p 00000000 00:00 0 \r\n",
        "7f8b65b13000-7f8b65b14000 rw-s 380e0fd64000 00:06 5486                   /dev/nvidia1\r\n",
        "7f8b65b14000-7f8b65b15000 rw-s 6e5e8000 00:06 4725                       /dev/nvidiactl\r\n",
        "7f8b65b15000-7f8b65b16000 rw-s 380e0fd64000 00:06 5486                   /dev/nvidia1\r\n",
        "7f8b65b16000-7f8b65b17000 rw-s 6b5cd000 00:06 4725                       /dev/nvidiactl\r\n",
        "7f8b65b17000-7f8b65b18000 rw-s 380e0fd63000 00:06 5486                   /dev/nvidia1\r\n",
        "7f8b65b18000-7f8b65b19000 rw-s 8b386000 00:06 4725                       /dev/nvidiactl\r\n",
        "7f8b65b19000-7f8b65b1a000 rw-s 380e0fd63000 00:06 5486                   /dev/nvidia1\r\n",
        "7f8b65b1a000-7f8b65b1b000 rw-s 44295000 00:06 4725                       /dev/nvidiactl\r\n",
        "7f8b65b1b000-7f8b65b3b000 rw-s 380e00380000 00:06 5486                   /dev/nvidia1\r\n",
        "7f8b65b3b000-7f8b65b3c000 rw-s 380e0fd63000 00:06 5486                   /dev/nvidia1\r\n",
        "7f8b65b3c000-7f8b65b3d000 rw-s 6bec5000 00:06 4725                       /dev/nvidiactl\r\n",
        "7f8b65b3d000-7f8b65b5d000 rw-s 380e00360000 00:06 5486                   /dev/nvidia1\r\n",
        "7f8b65b5d000-7f8b65b5e000 rw-s 380e0fd63000 00:06 5486                   /dev/nvidia1\r\n",
        "7f8b65b5e000-7f8b65b5f000 rw-s 5d823000 00:06 4725                       /dev/nvidiactl\r\n",
        "7f8b65b5f000-7f8b65b7f000 rw-s 380e00340000 00:06 5486                   /dev/nvidia1\r\n",
        "7f8b65b7f000-7f8b65b80000 rw-s 380e0fd63000 00:06 5486                   /dev/nvidia1\r\n",
        "7f8b65b80000-7f8b65b81000 rw-s 84855000 00:06 4725                       /dev/nvidiactl\r\n",
        "7f8b65b81000-7f8b65ba1000 rw-s 380e00320000 00:06 5486                   /dev/nvidia1\r\n",
        "7f8b65ba1000-7f8b65ba2000 rw-s 380e0fd63000 00:06 5486                   /dev/nvidia1\r\n",
        "7f8b65ba2000-7f8b65ba3000 rw-s 6c125000 00:06 4725                       /dev/nvidiactl\r\n",
        "7f8b65ba3000-7f8b65bc3000 rw-s 380e00300000 00:06 5486                   /dev/nvidia1\r\n",
        "7f8b65bc3000-7f8b65bc4000 rw-s 380e0fd63000 00:06 5486                   /dev/nvidia1\r\n",
        "7f8b65bc4000-7f8b65bc5000 rw-s 316c40000 00:06 4725                      /dev/nvidiactl\r\n",
        "7f8b65bc5000-7f8b65be5000 rw-s 380e002e0000 00:06 5486                   /dev/nvidia1\r\n",
        "7f8b65be5000-7f8b65c05000 rw-s 380e002c0000 00:06 5486                   /dev/nvidia1\r\n",
        "7f8b65c05000-7f8b65c25000 rw-s 380e002a0000 00:06 5486                   /dev/nvidia1\r\n",
        "7f8b65c25000-7f8b65c45000 rw-s 380e00280000 00:06 5486                   /dev/nvidia1\r\n",
        "7f8b65c45000-7f8b65c65000 rw-s 380e00260000 00:06 5486                   /dev/nvidia1\r\n",
        "7f8b65c65000-7f8b65c85000 rw-s 380e00240000 00:06 5486                   /dev/nvidia1\r\n",
        "7f8b65c85000-7f8b65ca5000 rw-s 380e00220000 00:06 5486                   /dev/nvidia1\r\n",
        "7f8b65ca5000-7f8b65cc5000 rw-s 380e00200000 00:06 5486                   /dev/nvidia1\r\n",
        "7f8b65cc5000-7f8b65cce000 rw-p 00000000 00:00 0 \r\n",
        "7f8b65cce000-7f8b65ccf000 rw-s 380e0fd63000 00:06 5486                   /dev/nvidia1\r\n",
        "7f8b65ccf000-7f8b65cd0000 rw-s 3221e2000 00:06 4725                      /dev/nvidiactl\r\n",
        "7f8b65cd0000-7f8b65cd1000 rw-s 380e0fd62000 00:06 5486                   /dev/nvidia1\r\n",
        "7f8b65cd1000-7f8b65cd2000 rw-s 2bd9e8000 00:06 4725                      /dev/nvidiactl\r\n",
        "7f8b65cd2000-7f8b65cd3000 rw-s 380e0fd62000 00:06 5486                   /dev/nvidia1\r\n",
        "7f8b65cd3000-7f8b65cd4000 rw-s 322bce000 00:06 4725                      /dev/nvidiactl\r\n",
        "7f8b65cd4000-7f8b65cd5000 rw-s 380e0fd62000 00:06 5486                   /dev/nvidia1\r\n",
        "7f8b65cd5000-7f8b65cd6000 rw-s 1c2b95000 00:06 4725                      /dev/nvidiactl\r\n",
        "7f8b65cd6000-7f8b65cd7000 rw-s 380e0fd62000 00:06 5486                   /dev/nvidia1\r\n",
        "7f8b65cd7000-7f8b65cd8000 rw-s 1d5459000 00:06 4725                      /dev/nvidiactl\r\n",
        "7f8b65cd8000-7f8b65cd9000 rw-s 380e0fd62000 00:06 5486                   /dev/nvidia1\r\n",
        "7f8b65cd9000-7f8b65cda000 rw-s 281326000 00:06 4725                      /dev/nvidiactl\r\n",
        "7f8b65cda000-7f8b65cdb000 rw-s 380e0fd62000 00"
       ]
      },
      {
       "output_type": "stream",
       "stream": "stdout",
       "text": [
        ":06 5486                   /dev/nvidia1\r\n",
        "7f8b65cdb000-7f8b65cdc000 rw-s 1716e4000 00:06 4725                      /dev/nvidiactl\r\n",
        "7f8b65cdc000-7f8b65cdd000 r--s fa000000 00:06 5486                       /dev/nvidia1\r\n",
        "7f8b65cdd000-7f8b65cff000 rw-p 00000000 00:00 0 \r\n",
        "7f8b65cff000-7f8b65d00000 r--p 00020000 08:05 398161                     /lib64/ld-2.19.so\r\n",
        "7f8b65d00000-7f8b65d01000 rw-p 00021000 08:05 398161                     /lib64/ld-2.19.so\r\n",
        "7f8b65d01000-7f8b65d02000 rw-p 00000000 00:00 0 \r\n",
        "7fffcbf2c000-7fffcbf4c000 rwxp 00000000 00:00 0                          [stack]\r\n",
        "7fffcbf4c000-7fffcbf4d000 rw-p 00000000 00:00 0 \r\n",
        "7fffcbfff000-7fffcc000000 r-xp 00000000 00:00 0                          [vdso]\r\n",
        "ffffffffff600000-ffffffffff601000 r-xp 00000000 00:00 0                  [vsyscall]\r\n"
       ]
      }
     ],
     "prompt_number": 19
    },
    {
     "cell_type": "code",
     "collapsed": false,
     "input": [
      "a=loadtxt(\"pur_pret.dat\")\n",
      "plot(jps,a)\n",
      "xlabel(\"$ln(\\lambda)$\")\n",
      "ylabel(\"$ln(1-P)$\")\n",
      "text(0.06,.8,'$\\gamma=1.$',fontsize=18)\n",
      "axis([0,pi/2,.48,1.05])\n",
      "show()"
     ],
     "language": "python",
     "metadata": {},
     "outputs": [
      {
       "ename": "ValueError",
       "evalue": "x and y must have same first dimension",
       "output_type": "pyerr",
       "traceback": [
        "\u001b[0;31m---------------------------------------------------------------------------\u001b[0m\n\u001b[0;31mValueError\u001b[0m                                Traceback (most recent call last)",
        "\u001b[0;32m<ipython-input-20-37cb05181179>\u001b[0m in \u001b[0;36m<module>\u001b[0;34m()\u001b[0m\n\u001b[1;32m      1\u001b[0m \u001b[0ma\u001b[0m\u001b[0;34m=\u001b[0m\u001b[0mloadtxt\u001b[0m\u001b[0;34m(\u001b[0m\u001b[0;34m\"pur_pret.dat\"\u001b[0m\u001b[0;34m)\u001b[0m\u001b[0;34m\u001b[0m\u001b[0m\n\u001b[0;32m----> 2\u001b[0;31m \u001b[0mplot\u001b[0m\u001b[0;34m(\u001b[0m\u001b[0mjps\u001b[0m\u001b[0;34m,\u001b[0m\u001b[0ma\u001b[0m\u001b[0;34m)\u001b[0m\u001b[0;34m\u001b[0m\u001b[0m\n\u001b[0m\u001b[1;32m      3\u001b[0m \u001b[0mxlabel\u001b[0m\u001b[0;34m(\u001b[0m\u001b[0;34m\"$ln(\\lambda)$\"\u001b[0m\u001b[0;34m)\u001b[0m\u001b[0;34m\u001b[0m\u001b[0m\n\u001b[1;32m      4\u001b[0m \u001b[0mylabel\u001b[0m\u001b[0;34m(\u001b[0m\u001b[0;34m\"$ln(1-P)$\"\u001b[0m\u001b[0;34m)\u001b[0m\u001b[0;34m\u001b[0m\u001b[0m\n\u001b[1;32m      5\u001b[0m \u001b[0mtext\u001b[0m\u001b[0;34m(\u001b[0m\u001b[0;36m0.06\u001b[0m\u001b[0;34m,\u001b[0m\u001b[0;36m.8\u001b[0m\u001b[0;34m,\u001b[0m\u001b[0;34m'$\\gamma=1.$'\u001b[0m\u001b[0;34m,\u001b[0m\u001b[0mfontsize\u001b[0m\u001b[0;34m=\u001b[0m\u001b[0;36m18\u001b[0m\u001b[0;34m)\u001b[0m\u001b[0;34m\u001b[0m\u001b[0m\n",
        "\u001b[0;32m/usr/lib/pymodules/python2.7/matplotlib/pyplot.pyc\u001b[0m in \u001b[0;36mplot\u001b[0;34m(*args, **kwargs)\u001b[0m\n\u001b[1;32m   2985\u001b[0m         \u001b[0max\u001b[0m\u001b[0;34m.\u001b[0m\u001b[0mhold\u001b[0m\u001b[0;34m(\u001b[0m\u001b[0mhold\u001b[0m\u001b[0;34m)\u001b[0m\u001b[0;34m\u001b[0m\u001b[0m\n\u001b[1;32m   2986\u001b[0m     \u001b[0;32mtry\u001b[0m\u001b[0;34m:\u001b[0m\u001b[0;34m\u001b[0m\u001b[0m\n\u001b[0;32m-> 2987\u001b[0;31m         \u001b[0mret\u001b[0m \u001b[0;34m=\u001b[0m \u001b[0max\u001b[0m\u001b[0;34m.\u001b[0m\u001b[0mplot\u001b[0m\u001b[0;34m(\u001b[0m\u001b[0;34m*\u001b[0m\u001b[0margs\u001b[0m\u001b[0;34m,\u001b[0m \u001b[0;34m**\u001b[0m\u001b[0mkwargs\u001b[0m\u001b[0;34m)\u001b[0m\u001b[0;34m\u001b[0m\u001b[0m\n\u001b[0m\u001b[1;32m   2988\u001b[0m         \u001b[0mdraw_if_interactive\u001b[0m\u001b[0;34m(\u001b[0m\u001b[0;34m)\u001b[0m\u001b[0;34m\u001b[0m\u001b[0m\n\u001b[1;32m   2989\u001b[0m     \u001b[0;32mfinally\u001b[0m\u001b[0;34m:\u001b[0m\u001b[0;34m\u001b[0m\u001b[0m\n",
        "\u001b[0;32m/usr/lib/pymodules/python2.7/matplotlib/axes.pyc\u001b[0m in \u001b[0;36mplot\u001b[0;34m(self, *args, **kwargs)\u001b[0m\n\u001b[1;32m   4135\u001b[0m         \u001b[0mlines\u001b[0m \u001b[0;34m=\u001b[0m \u001b[0;34m[\u001b[0m\u001b[0;34m]\u001b[0m\u001b[0;34m\u001b[0m\u001b[0m\n\u001b[1;32m   4136\u001b[0m \u001b[0;34m\u001b[0m\u001b[0m\n\u001b[0;32m-> 4137\u001b[0;31m         \u001b[0;32mfor\u001b[0m \u001b[0mline\u001b[0m \u001b[0;32min\u001b[0m \u001b[0mself\u001b[0m\u001b[0;34m.\u001b[0m\u001b[0m_get_lines\u001b[0m\u001b[0;34m(\u001b[0m\u001b[0;34m*\u001b[0m\u001b[0margs\u001b[0m\u001b[0;34m,\u001b[0m \u001b[0;34m**\u001b[0m\u001b[0mkwargs\u001b[0m\u001b[0;34m)\u001b[0m\u001b[0;34m:\u001b[0m\u001b[0;34m\u001b[0m\u001b[0m\n\u001b[0m\u001b[1;32m   4138\u001b[0m             \u001b[0mself\u001b[0m\u001b[0;34m.\u001b[0m\u001b[0madd_line\u001b[0m\u001b[0;34m(\u001b[0m\u001b[0mline\u001b[0m\u001b[0;34m)\u001b[0m\u001b[0;34m\u001b[0m\u001b[0m\n\u001b[1;32m   4139\u001b[0m             \u001b[0mlines\u001b[0m\u001b[0;34m.\u001b[0m\u001b[0mappend\u001b[0m\u001b[0;34m(\u001b[0m\u001b[0mline\u001b[0m\u001b[0;34m)\u001b[0m\u001b[0;34m\u001b[0m\u001b[0m\n",
        "\u001b[0;32m/usr/lib/pymodules/python2.7/matplotlib/axes.pyc\u001b[0m in \u001b[0;36m_grab_next_args\u001b[0;34m(self, *args, **kwargs)\u001b[0m\n\u001b[1;32m    315\u001b[0m                 \u001b[0;32mreturn\u001b[0m\u001b[0;34m\u001b[0m\u001b[0m\n\u001b[1;32m    316\u001b[0m             \u001b[0;32mif\u001b[0m \u001b[0mlen\u001b[0m\u001b[0;34m(\u001b[0m\u001b[0mremaining\u001b[0m\u001b[0;34m)\u001b[0m \u001b[0;34m<=\u001b[0m \u001b[0;36m3\u001b[0m\u001b[0;34m:\u001b[0m\u001b[0;34m\u001b[0m\u001b[0m\n\u001b[0;32m--> 317\u001b[0;31m                 \u001b[0;32mfor\u001b[0m \u001b[0mseg\u001b[0m \u001b[0;32min\u001b[0m \u001b[0mself\u001b[0m\u001b[0;34m.\u001b[0m\u001b[0m_plot_args\u001b[0m\u001b[0;34m(\u001b[0m\u001b[0mremaining\u001b[0m\u001b[0;34m,\u001b[0m \u001b[0mkwargs\u001b[0m\u001b[0;34m)\u001b[0m\u001b[0;34m:\u001b[0m\u001b[0;34m\u001b[0m\u001b[0m\n\u001b[0m\u001b[1;32m    318\u001b[0m                     \u001b[0;32myield\u001b[0m \u001b[0mseg\u001b[0m\u001b[0;34m\u001b[0m\u001b[0m\n\u001b[1;32m    319\u001b[0m                 \u001b[0;32mreturn\u001b[0m\u001b[0;34m\u001b[0m\u001b[0m\n",
        "\u001b[0;32m/usr/lib/pymodules/python2.7/matplotlib/axes.pyc\u001b[0m in \u001b[0;36m_plot_args\u001b[0;34m(self, tup, kwargs)\u001b[0m\n\u001b[1;32m    293\u001b[0m             \u001b[0mx\u001b[0m \u001b[0;34m=\u001b[0m \u001b[0mnp\u001b[0m\u001b[0;34m.\u001b[0m\u001b[0marange\u001b[0m\u001b[0;34m(\u001b[0m\u001b[0my\u001b[0m\u001b[0;34m.\u001b[0m\u001b[0mshape\u001b[0m\u001b[0;34m[\u001b[0m\u001b[0;36m0\u001b[0m\u001b[0;34m]\u001b[0m\u001b[0;34m,\u001b[0m \u001b[0mdtype\u001b[0m\u001b[0;34m=\u001b[0m\u001b[0mfloat\u001b[0m\u001b[0;34m)\u001b[0m\u001b[0;34m\u001b[0m\u001b[0m\n\u001b[1;32m    294\u001b[0m \u001b[0;34m\u001b[0m\u001b[0m\n\u001b[0;32m--> 295\u001b[0;31m         \u001b[0mx\u001b[0m\u001b[0;34m,\u001b[0m \u001b[0my\u001b[0m \u001b[0;34m=\u001b[0m \u001b[0mself\u001b[0m\u001b[0;34m.\u001b[0m\u001b[0m_xy_from_xy\u001b[0m\u001b[0;34m(\u001b[0m\u001b[0mx\u001b[0m\u001b[0;34m,\u001b[0m \u001b[0my\u001b[0m\u001b[0;34m)\u001b[0m\u001b[0;34m\u001b[0m\u001b[0m\n\u001b[0m\u001b[1;32m    296\u001b[0m \u001b[0;34m\u001b[0m\u001b[0m\n\u001b[1;32m    297\u001b[0m         \u001b[0;32mif\u001b[0m \u001b[0mself\u001b[0m\u001b[0;34m.\u001b[0m\u001b[0mcommand\u001b[0m \u001b[0;34m==\u001b[0m \u001b[0;34m'plot'\u001b[0m\u001b[0;34m:\u001b[0m\u001b[0;34m\u001b[0m\u001b[0m\n",
        "\u001b[0;32m/usr/lib/pymodules/python2.7/matplotlib/axes.pyc\u001b[0m in \u001b[0;36m_xy_from_xy\u001b[0;34m(self, x, y)\u001b[0m\n\u001b[1;32m    235\u001b[0m         \u001b[0my\u001b[0m \u001b[0;34m=\u001b[0m \u001b[0mnp\u001b[0m\u001b[0;34m.\u001b[0m\u001b[0matleast_1d\u001b[0m\u001b[0;34m(\u001b[0m\u001b[0my\u001b[0m\u001b[0;34m)\u001b[0m\u001b[0;34m\u001b[0m\u001b[0m\n\u001b[1;32m    236\u001b[0m         \u001b[0;32mif\u001b[0m \u001b[0mx\u001b[0m\u001b[0;34m.\u001b[0m\u001b[0mshape\u001b[0m\u001b[0;34m[\u001b[0m\u001b[0;36m0\u001b[0m\u001b[0;34m]\u001b[0m \u001b[0;34m!=\u001b[0m \u001b[0my\u001b[0m\u001b[0;34m.\u001b[0m\u001b[0mshape\u001b[0m\u001b[0;34m[\u001b[0m\u001b[0;36m0\u001b[0m\u001b[0;34m]\u001b[0m\u001b[0;34m:\u001b[0m\u001b[0;34m\u001b[0m\u001b[0m\n\u001b[0;32m--> 237\u001b[0;31m             \u001b[0;32mraise\u001b[0m \u001b[0mValueError\u001b[0m\u001b[0;34m(\u001b[0m\u001b[0;34m\"x and y must have same first dimension\"\u001b[0m\u001b[0;34m)\u001b[0m\u001b[0;34m\u001b[0m\u001b[0m\n\u001b[0m\u001b[1;32m    238\u001b[0m         \u001b[0;32mif\u001b[0m \u001b[0mx\u001b[0m\u001b[0;34m.\u001b[0m\u001b[0mndim\u001b[0m \u001b[0;34m>\u001b[0m \u001b[0;36m2\u001b[0m \u001b[0;32mor\u001b[0m \u001b[0my\u001b[0m\u001b[0;34m.\u001b[0m\u001b[0mndim\u001b[0m \u001b[0;34m>\u001b[0m \u001b[0;36m2\u001b[0m\u001b[0;34m:\u001b[0m\u001b[0;34m\u001b[0m\u001b[0m\n\u001b[1;32m    239\u001b[0m             \u001b[0;32mraise\u001b[0m \u001b[0mValueError\u001b[0m\u001b[0;34m(\u001b[0m\u001b[0;34m\"x and y can be no greater than 2-D\"\u001b[0m\u001b[0;34m)\u001b[0m\u001b[0;34m\u001b[0m\u001b[0m\n",
        "\u001b[0;31mValueError\u001b[0m: x and y must have same first dimension"
       ]
      },
      {
       "output_type": "stream",
       "stream": "stderr",
       "text": [
        "/usr/lib/python2.7/dist-packages/numpy/lib/npyio.py:816: UserWarning: loadtxt: Empty input file: \"pur_pret.dat\"\n",
        "  warnings.warn('loadtxt: Empty input file: \"%s\"' % fname)\n"
       ]
      }
     ],
     "prompt_number": 20
    },
    {
     "cell_type": "heading",
     "level": 2,
     "metadata": {},
     "source": [
      "Tercera tarea "
     ]
    },
    {
     "cell_type": "code",
     "collapsed": false,
     "input": [
      "Jc,Jp,Js,DJs,Dbs,bx,bz=[0.01,0.05,1.0,0.1,0.,1.0,1.0] "
     ],
     "language": "python",
     "metadata": {},
     "outputs": [],
     "prompt_number": 2
    },
    {
     "cell_type": "code",
     "collapsed": false,
     "input": [
      "q=17\n",
      "x=6\n",
      "veces=10\n",
      "for i in range(veces) :\n",
      "    !ssh t800  carlospg/qubits-CUDA/./abc -o purity -q $q --x $x --model model3_open --Jc $Jc --Jp $Jp --Js $Js --DJs $DJs --bx $bx --bz $bz --Dbs $Dbs --t 1500 --Cseed 2134 --Eseed 0 --PARAMseed 4452  > pur.dat\n",
      "    a=loadtxt(\"pur.dat\")\n",
      "    plot(a)\n",
      "xlabel(\"$t$\")\n",
      "ylabel(\"$P$\")\n",
      "axis([0,1500,.48,1])\n",
      "#text(70,.8,'$J_c=0.1$',fontsize=18)\n",
      "show()    "
     ],
     "language": "python",
     "metadata": {},
     "outputs": [
      {
       "metadata": {},
       "output_type": "display_data",
       "png": "[encoded data removed]",
       "text": [
        "<matplotlib.figure.Figure at 0x7ff9bc19e310>"
       ]
      }
     ],
     "prompt_number": 4
    },
    {
     "cell_type": "heading",
     "level": 2,
     "metadata": {},
     "source": [
      "Cuarta tarea"
     ]
    },
    {
     "cell_type": "code",
     "collapsed": false,
     "input": [
      "Jc,Jp,DJs,Dbs,bx,bz=[0.01,0.05,0.,0.,1.0,1.0] "
     ],
     "language": "python",
     "metadata": {},
     "outputs": [],
     "prompt_number": 10
    },
    {
     "cell_type": "code",
     "collapsed": false,
     "input": [
      "q=17\n",
      "x=6\n",
      "#veces=5\n",
      "js=linspace(0,pi,150)\n",
      "!rm pur_pret.dat\n",
      "for Js in js :\n",
      "    !ssh t800  carlospg/qubits-CUDA/./abc -o purity_onet -q $q --x $x --model model3_open --Jc $Jc --Jp $Jp --Js $Js --DJs $DJs --bx $bx --bz $bz --Dbs $Dbs --t 800 --Cseed -1 --Eseed 3462 --PARAMseed 9678  >> pur_pret.dat"
     ],
     "language": "python",
     "metadata": {},
     "outputs": [],
     "prompt_number": 11
    },
    {
     "cell_type": "code",
     "collapsed": false,
     "input": [
      "a=loadtxt(\"pur_pret.dat\")\n",
      "plot(js,a)\n",
      "xlabel(\"$J$\")\n",
      "ylabel(\"$P$\")\n",
      "#text(70,.8,'$J_c=0.01$',fontsize=18)\n",
      "axis([0,pi,.48,1.05])\n",
      "show()"
     ],
     "language": "python",
     "metadata": {},
     "outputs": [
      {
       "metadata": {},
       "output_type": "display_data",
       "png": "[encoded data removed]",
       "text": [
        "<matplotlib.figure.Figure at 0x7faff8f77c10>"
       ]
      }
     ],
     "prompt_number": 7
    },
    {
     "cell_type": "heading",
     "level": 2,
     "metadata": {},
     "source": [
      "Quinta tarea"
     ]
    },
    {
     "cell_type": "code",
     "collapsed": false,
     "input": [
      "Jc,Jp,Js,DJs,Dbs=[0.01,0.05,1.0,0.,0.] "
     ],
     "language": "python",
     "metadata": {},
     "outputs": [],
     "prompt_number": 7
    },
    {
     "cell_type": "code",
     "collapsed": false,
     "input": [
      "q=17\n",
      "x=6\n",
      "#veces=5\n",
      "bs=linspace(0,pi,150)\n",
      "!rm pur_pret.dat\n",
      "for b in bs :\n",
      "    bx=b\n",
      "    bz=b\n",
      "    !ssh t800  carlospg/qubits-CUDA/./abc -o purity_onet -q $q --x $x --model model3_open --Jc $Jc --Jp $Jp --Js $Js --DJs $DJs --bx $bx --bz $bz --Dbs $Dbs --t 800 --Cseed -1 --Eseed 3462 --PARAMseed 9678   >> pur_pret.dat"
     ],
     "language": "python",
     "metadata": {},
     "outputs": [],
     "prompt_number": 8
    },
    {
     "cell_type": "code",
     "collapsed": false,
     "input": [
      "a=loadtxt(\"pur_pret.dat\")\n",
      "plot(bs,a)\n",
      "xlabel(\"$|b|$\")\n",
      "ylabel(\"$P$\")\n",
      "#text(70,.8,'$J_c=0.01$',fontsize=18)\n",
      "axis([0,pi,.48,1.05])\n",
      "show()"
     ],
     "language": "python",
     "metadata": {},
     "outputs": [
      {
       "metadata": {},
       "output_type": "display_data",
       "png": "[encoded data removed]",
       "text": [
        "<matplotlib.figure.Figure at 0x7fe6a19d5ed0>"
       ]
      }
     ],
     "prompt_number": 9
    },
    {
     "cell_type": "heading",
     "level": 2,
     "metadata": {},
     "source": [
      "Sexta tarea"
     ]
    },
    {
     "cell_type": "code",
     "collapsed": false,
     "input": [
      "Jc,Jp,Js,DJs,Dbs=[0.01,0.05,1.0,0.,0.] "
     ],
     "language": "python",
     "metadata": {},
     "outputs": [],
     "prompt_number": 2
    },
    {
     "cell_type": "code",
     "collapsed": false,
     "input": [
      "q=17\n",
      "x=6\n",
      "#veces=5\n",
      "bts=linspace(0,pi,150)\n",
      "!rm pur_pret.dat\n",
      "for bt in bts :\n",
      "    bx=cos(bt)\n",
      "    bz=sin(bt)\n",
      "    !ssh t800  carlospg/qubits-CUDA/./abc -o purity_onet -q $q --x $x --model model3_open --Jc $Jc --Jp $Jp --Js $Js --DJs $DJs --bx $bx --bz $bz --Dbs $Dbs --t 800 --Cseed -1 --Eseed 3462 --PARAMseed 9678  >> pur_pret.dat"
     ],
     "language": "python",
     "metadata": {},
     "outputs": [],
     "prompt_number": 3
    },
    {
     "cell_type": "code",
     "collapsed": false,
     "input": [
      "a=loadtxt(\"pur_pret.dat\")\n",
      "plot(bts,a)\n",
      "xlabel(\"theta\")\n",
      "ylabel(\"$P$\")\n",
      "#text(70,.8,'$J_c=0.01$',fontsize=18)\n",
      "axis([0,pi,.48,1.05])\n",
      "show()"
     ],
     "language": "python",
     "metadata": {},
     "outputs": [
      {
       "metadata": {},
       "output_type": "display_data",
       "png": "[encoded data removed]",
       "text": [
        "<matplotlib.figure.Figure at 0x7fe6bad48210>"
       ]
      }
     ],
     "prompt_number": 6
    },
    {
     "cell_type": "code",
     "collapsed": false,
     "input": [],
     "language": "python",
     "metadata": {},
     "outputs": []
    }
   ],
   "metadata": {}
  }
 ]
}