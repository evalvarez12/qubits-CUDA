{
 "metadata": {
  "name": ""
 },
 "nbformat": 3,
 "nbformat_minor": 0,
 "worksheets": [
  {
   "cells": [
    {
     "cell_type": "heading",
     "level": 1,
     "metadata": {},
     "source": [
      "ARTICULO 2"
     ]
    },
    {
     "cell_type": "code",
     "collapsed": false,
     "input": [
      "from pylab import *\n",
      "#%matplotlib inline"
     ],
     "language": "python",
     "metadata": {},
     "outputs": [],
     "prompt_number": 1
    },
    {
     "cell_type": "code",
     "collapsed": false,
     "input": [
      "Jc,Js,DJs,Dbs,bx,bz=[0.01,1.0,0.0,0.0,1.0,1.0] "
     ],
     "language": "python",
     "metadata": {},
     "outputs": [],
     "prompt_number": 2
    },
    {
     "cell_type": "code",
     "collapsed": false,
     "input": [
      "q=17\n",
      "x=6\n",
      "#veces=5\n",
      "jps=linspace(0,pi/2,150)\n",
      "for i in range(1,15) :\n",
      "    for Jp in jps :\n",
      "        !ssh t800  carlospg/qubits-CUDA/./abc -o purity_onet -q $q --x $x --model modelVar$i --Jc $Jc --Jp $Jp --Js $Js --DJs $DJs --bx $bx --bz $bz --Dbs $Dbs --t 800 --Cseed -1 --Eseed 3462 --PARAMseed 9678  >> maxpur_$i_.dat\n"
     ],
     "language": "python",
     "metadata": {},
     "outputs": [
      {
       "output_type": "stream",
       "stream": "stdout",
       "text": [
        "PARSE ERROR: Argument: -q (--qubits)\r\n",
        "             Couldn't read argument value from string '--x'\r\n",
        "\r\n",
        "Brief USAGE: \r\n",
        "   carlospg/qubits-CUDA/./abc  [--symR <int>] [--x <int>] [--t_ave <int>]\r\n",
        "                               [--model <string>] [--no_general_report]\r\n",
        "                               [--dev <int>] [--ifrandom <int>]\r\n",
        "                               [--one_state <int>] [--Dbs <double>] [--bz\r\n",
        "                               <double>] [--by <double>] [--bx <double>]\r\n",
        "                               [--Js <double>] [--DJs <double>] [--Jp\r\n",
        "                               <double>] [--Jc <double>] [--t <int>] [-q\r\n",
        "                               <int>] [-o <string>] [--PARAMseed <unsigned\r\n",
        "                               int>] [--Eseed <unsigned int>] [--Cseed\r\n",
        "                               <unsigned int>] [--] [--version] [-h]\r\n",
        "\r\n",
        "For complete USAGE and HELP type: \r\n",
        "   carlospg/qubits-CUDA/./abc --help\r\n",
        "\r\n"
       ]
      },
      {
       "output_type": "stream",
       "stream": "stdout",
       "text": [
        "PARSE ERROR: Argument: -q (--qubits)\r\n",
        "             Couldn't read argument value from string '--x'\r\n",
        "\r\n",
        "Brief USAGE: \r\n",
        "   carlospg/qubits-CUDA/./abc  [--symR <int>] [--x <int>] [--t_ave <int>]\r\n",
        "                               [--model <string>] [--no_general_report]\r\n",
        "                               [--dev <int>] [--ifrandom <int>]\r\n",
        "                               [--one_state <int>] [--Dbs <double>] [--bz\r\n",
        "                               <double>] [--by <double>] [--bx <double>]\r\n",
        "                               [--Js <double>] [--DJs <double>] [--Jp\r\n",
        "                               <double>] [--Jc <double>] [--t <int>] [-q\r\n",
        "                               <int>] [-o <string>] [--PARAMseed <unsigned\r\n",
        "                               int>] [--Eseed <unsigned int>] [--Cseed\r\n",
        "                               <unsigned int>] [--] [--version] [-h]\r\n",
        "\r\n",
        "For complete USAGE and HELP type: \r\n",
        "   carlospg/qubits-CUDA/./abc --help\r\n",
        "\r\n"
       ]
      },
      {
       "output_type": "stream",
       "stream": "stdout",
       "text": [
        "PARSE ERROR: Argument: -q (--qubits)\r\n",
        "             Couldn't read argument value from string '--x'\r\n",
        "\r\n",
        "Brief USAGE: \r\n",
        "   carlospg/qubits-CUDA/./abc  [--symR <int>] [--x <int>] [--t_ave <int>]\r\n",
        "                               [--model <string>] [--no_general_report]\r\n",
        "                               [--dev <int>] [--ifrandom <int>]\r\n",
        "                               [--one_state <int>] [--Dbs <double>] [--bz\r\n",
        "                               <double>] [--by <double>] [--bx <double>]\r\n",
        "                               [--Js <double>] [--DJs <double>] [--Jp\r\n",
        "                               <double>] [--Jc <double>] [--t <int>] [-q\r\n",
        "                               <int>] [-o <string>] [--PARAMseed <unsigned\r\n",
        "                               int>] [--Eseed <unsigned int>] [--Cseed\r\n",
        "                               <unsigned int>] [--] [--version] [-h]\r\n",
        "\r\n",
        "For complete USAGE and HELP type: \r\n",
        "   carlospg/qubits-CUDA/./abc --help\r\n",
        "\r\n"
       ]
      },
      {
       "output_type": "stream",
       "stream": "stdout",
       "text": [
        "PARSE ERROR: Argument: -q (--qubits)\r\n",
        "             Couldn't read argument value from string '--x'\r\n",
        "\r\n",
        "Brief USAGE: \r\n",
        "   carlospg/qubits-CUDA/./abc  [--symR <int>] [--x <int>] [--t_ave <int>]\r\n",
        "                               [--model <string>] [--no_general_report]\r\n",
        "                               [--dev <int>] [--ifrandom <int>]\r\n",
        "                               [--one_state <int>] [--Dbs <double>] [--bz\r\n",
        "                               <double>] [--by <double>] [--bx <double>]\r\n",
        "                               [--Js <double>] [--DJs <double>] [--Jp\r\n",
        "                               <double>] [--Jc <double>] [--t <int>] [-q\r\n",
        "                               <int>] [-o <string>] [--PARAMseed <unsigned\r\n",
        "                               int>] [--Eseed <unsigned int>] [--Cseed\r\n",
        "                               <unsigned int>] [--] [--version] [-h]\r\n",
        "\r\n",
        "For complete USAGE and HELP type: \r\n",
        "   carlospg/qubits-CUDA/./abc --help\r\n",
        "\r\n"
       ]
      },
      {
       "output_type": "stream",
       "stream": "stdout",
       "text": [
        "PARSE ERROR: Argument: -q (--qubits)\r\n",
        "             Couldn't read argument value from string '--x'\r\n",
        "\r\n",
        "Brief USAGE: \r\n",
        "   carlospg/qubits-CUDA/./abc  [--symR <int>] [--x <int>] [--t_ave <int>]\r\n",
        "                               [--model <string>] [--no_general_report]\r\n",
        "                               [--dev <int>] [--ifrandom <int>]\r\n",
        "                               [--one_state <int>] [--Dbs <double>] [--bz\r\n",
        "                               <double>] [--by <double>] [--bx <double>]\r\n",
        "                               [--Js <double>] [--DJs <double>] [--Jp\r\n",
        "                               <double>] [--Jc <double>] [--t <int>] [-q\r\n",
        "                               <int>] [-o <string>] [--PARAMseed <unsigned\r\n",
        "                               int>] [--Eseed <unsigned int>] [--Cseed\r\n",
        "                               <unsigned int>] [--] [--version] [-h]\r\n",
        "\r\n",
        "For complete USAGE and HELP type: \r\n",
        "   carlospg/qubits-CUDA/./abc --help\r\n",
        "\r\n"
       ]
      },
      {
       "output_type": "stream",
       "stream": "stdout",
       "text": [
        "PARSE ERROR: Argument: -q (--qubits)\r\n",
        "             Couldn't read argument value from string '--x'\r\n",
        "\r\n",
        "Brief USAGE: \r\n",
        "   carlospg/qubits-CUDA/./abc  [--symR <int>] [--x <int>] [--t_ave <int>]\r\n",
        "                               [--model <string>] [--no_general_report]\r\n",
        "                               [--dev <int>] [--ifrandom <int>]\r\n",
        "                               [--one_state <int>] [--Dbs <double>] [--bz\r\n",
        "                               <double>] [--by <double>] [--bx <double>]\r\n",
        "                               [--Js <double>] [--DJs <double>] [--Jp\r\n",
        "                               <double>] [--Jc <double>] [--t <int>] [-q\r\n",
        "                               <int>] [-o <string>] [--PARAMseed <unsigned\r\n",
        "                               int>] [--Eseed <unsigned int>] [--Cseed\r\n",
        "                               <unsigned int>] [--] [--version] [-h]\r\n",
        "\r\n",
        "For complete USAGE and HELP type: \r\n",
        "   carlospg/qubits-CUDA/./abc --help\r\n",
        "\r\n"
       ]
      },
      {
       "output_type": "stream",
       "stream": "stdout",
       "text": [
        "PARSE ERROR: Argument: -q (--qubits)\r\n",
        "             Couldn't read argument value from string '--x'\r\n",
        "\r\n",
        "Brief USAGE: \r\n",
        "   carlospg/qubits-CUDA/./abc  [--symR <int>] [--x <int>] [--t_ave <int>]\r\n",
        "                               [--model <string>] [--no_general_report]\r\n",
        "                               [--dev <int>] [--ifrandom <int>]\r\n",
        "                       "
       ]
      },
      {
       "output_type": "stream",
       "stream": "stdout",
       "text": [
        "        [--one_state <int>] [--Dbs <double>] [--bz\r\n",
        "                               <double>] [--by <double>] [--bx <double>]\r\n",
        "                               [--Js <double>] [--DJs <double>] [--Jp\r\n",
        "                               <double>] [--Jc <double>] [--t <int>] [-q\r\n",
        "                               <int>] [-o <string>] [--PARAMseed <unsigned\r\n",
        "                               int>] [--Eseed <unsigned int>] [--Cseed\r\n",
        "                               <unsigned int>] [--] [--version] [-h]\r\n",
        "\r\n",
        "For complete USAGE and HELP type: \r\n",
        "   carlospg/qubits-CUDA/./abc --help\r\n",
        "\r\n"
       ]
      },
      {
       "output_type": "stream",
       "stream": "stdout",
       "text": [
        "PARSE ERROR: Argument: -q (--qubits)\r\n",
        "             Couldn't read argument value from string '--x'\r\n",
        "\r\n",
        "Brief USAGE: \r\n",
        "   carlospg/qubits-CUDA/./abc  [--symR <int>] [--x <int>] [--t_ave <int>]\r\n",
        "                               [--model <string>] [--no_general_report]\r\n",
        "                               [--dev <int>] [--ifrandom <int>]\r\n",
        "                               [--one_state <int>] [--Dbs <double>] [--bz\r\n",
        "                               <double>] [--by <double>] [--bx <double>]\r\n",
        "                               [--Js <double>] [--DJs <double>] [--Jp\r\n",
        "                               <double>] [--Jc <double>] [--t <int>] [-q\r\n",
        "                               <int>] [-o <string>] [--PARAMseed <unsigned\r\n",
        "                               int>] [--Eseed <unsigned int>] [--Cseed\r\n",
        "                               <unsigned int>] [--] [--version] [-h]\r\n",
        "\r\n",
        "For complete USAGE and HELP type: \r\n",
        "   carlospg/qubits-CUDA/./abc --help\r\n",
        "\r\n"
       ]
      },
      {
       "output_type": "stream",
       "stream": "stdout",
       "text": [
        "PARSE ERROR: Argument: -q (--qubits)\r\n",
        "             Couldn't read argument value from string '--x'\r\n",
        "\r\n",
        "Brief USAGE: \r\n",
        "   carlospg/qubits-CUDA/./abc  [--symR <int>] [--x <int>] [--t_ave <int>]\r\n",
        "                               [--model <string>] [--no_general_report]\r\n",
        "                               [--dev <int>] [--ifrandom <int>]\r\n",
        "                               [--one_state <int>] [--Dbs <double>] [--bz\r\n",
        "                               <double>] [--by <double>] [--bx <double>]\r\n",
        "                               [--Js <double>] [--DJs <double>] [--Jp\r\n",
        "                               <double>] [--Jc <double>] [--t <int>] [-q\r\n",
        "                               <int>] [-o <string>] [--PARAMseed <unsigned\r\n",
        "                               int>] [--Eseed <unsigned int>] [--Cseed\r\n",
        "                               <unsigned int>] [--] [--version] [-h]\r\n",
        "\r\n",
        "For complete USAGE and HELP type: \r\n",
        "   carlospg/qubits-CUDA/./abc --help\r\n",
        "\r\n"
       ]
      },
      {
       "output_type": "stream",
       "stream": "stdout",
       "text": [
        "PARSE ERROR: Argument: -q (--qubits)\r\n",
        "             Couldn't read argument value from string '--x'\r\n",
        "\r\n",
        "Brief USAGE: \r\n",
        "   carlospg/qubits-CUDA/./abc  [--symR <int>] [--x <int>] [--t_ave <int>]\r\n",
        "                               [--model <string>] [--no_general_report]\r\n",
        "                               [--dev <int>] [--ifrandom <int>]\r\n",
        "                               [--one_state <int>] [--Dbs <double>] [--bz\r\n",
        "                               <double>] [--by <double>] [--bx <double>]\r\n",
        "                               [--Js <double>] [--DJs <double>] [--Jp\r\n",
        "                               <double>] [--Jc <double>] [--t <int>] [-q\r\n",
        "                               <int>] [-o <string>] [--PARAMseed <unsigned\r\n",
        "                               int>] [--Eseed <unsigned int>] [--Cseed\r\n",
        "                               <unsigned int>] [--] [--version] [-h]\r\n",
        "\r\n",
        "For complete USAGE and HELP type: \r\n",
        "   carlospg/qubits-CUDA/./abc --help\r\n",
        "\r\n"
       ]
      },
      {
       "output_type": "stream",
       "stream": "stdout",
       "text": [
        "PARSE ERROR: Argument: -q (--qubits)\r\n",
        "             Couldn't read argument value from string '--x'\r\n",
        "\r\n",
        "Brief USAGE: \r\n",
        "   carlospg/qubits-CUDA/./abc  [--symR <int>] [--x <int>] [--t_ave <int>]\r\n",
        "                               [--model <string>] [--no_general_report]\r\n",
        "                               [--dev <int>] [--ifrandom <int>]\r\n",
        "                               [--one_state <int>] [--Dbs <double>] [--bz\r\n",
        "                               <double>] [--by <double>] [--bx <double>]\r\n",
        "                               [--Js <double>] [--DJs <double>] [--Jp\r\n",
        "                               <double>] [--Jc <double>] [--t <int>] [-q\r\n",
        "                               <int>] [-o <string>] [--PARAMseed <unsigned\r\n",
        "                               int>] [--Eseed <unsigned int>] [--Cseed\r\n",
        "                               <unsigned int>] [--] [--version] [-h]\r\n",
        "\r\n",
        "For complete USAGE and HELP type: \r\n",
        "   carlospg/qubits-CUDA/./abc --help\r\n",
        "\r\n"
       ]
      },
      {
       "output_type": "stream",
       "stream": "stdout",
       "text": [
        "PARSE ERROR: Argument: -q (--qubits)\r\n",
        "             Couldn't read argument value from string '--x'\r\n",
        "\r\n",
        "Brief USAGE: \r\n",
        "   carlospg/qubits-CUDA/./abc  [--symR <int>] [--x <int>] [--t_ave <int>]\r\n",
        "                               [--model <string>] [--no_general_report]\r\n",
        "    "
       ]
      },
      {
       "output_type": "stream",
       "stream": "stdout",
       "text": [
        "                           [--dev <int>] [--ifrandom <int>]\r\n",
        "                               [--one_state <int>] [--Dbs <double>] [--bz\r\n",
        "                               <double>] [--by <double>] [--bx <double>]\r\n",
        "                               [--Js <double>] [--DJs <double>] [--Jp\r\n",
        "                               <double>] [--Jc <double>] [--t <int>] [-q\r\n",
        "                               <int>] [-o <string>] [--PARAMseed <unsigned\r\n",
        "                               int>] [--Eseed <unsigned int>] [--Cseed\r\n",
        "                               <unsigned int>] [--] [--version] [-h]\r\n",
        "\r\n",
        "For complete USAGE and HELP type: \r\n",
        "   carlospg/qubits-CUDA/./abc --help\r\n",
        "\r\n"
       ]
      },
      {
       "output_type": "stream",
       "stream": "stdout",
       "text": [
        "PARSE ERROR: Argument: -q (--qubits)\r\n",
        "             Couldn't read argument value from string '--x'\r\n",
        "\r\n",
        "Brief USAGE: \r\n",
        "   carlospg/qubits-CUDA/./abc  [--symR <int>] [--x <int>] [--t_ave <int>]\r\n",
        "                               [--model <string>] [--no_general_report]\r\n",
        "                               [--dev <int>] [--ifrandom <int>]\r\n",
        "                     "
       ]
      },
      {
       "output_type": "stream",
       "stream": "stdout",
       "text": [
        "          [--one_state <int>] [--Dbs <double>] [--bz\r\n",
        "                               <double>] [--by <double>] [--bx <double>]\r\n",
        "                               [--Js <double>] [--DJs <double>] [--Jp\r\n",
        "                               <double>] [--Jc <double>] [--t <int>] [-q\r\n",
        "                               <int>] [-o <string>] [--PARAMseed <unsigned\r\n",
        "                               int>] [--Eseed <unsigned int>] [--Cseed\r\n",
        "                               <unsigned int>] [--] [--version] [-h]\r\n",
        "\r\n",
        "For complete USAGE and HELP type: \r\n",
        "   carlospg/qubits-CUDA/./abc --help\r\n",
        "\r\n"
       ]
      },
      {
       "output_type": "stream",
       "stream": "stdout",
       "text": [
        "PARSE ERROR: Argument: -q (--qubits)\r\n",
        "             Couldn't read argument value from string '--x'\r\n",
        "\r\n",
        "Brief USAGE: \r\n",
        "   carlospg/qubits-CUDA/./abc  [--symR <int>] [--x <int>] [--t_ave <int>]\r\n",
        "                               [--model <string>] [--no_general_report]\r\n",
        "                               [--dev <int>] [--ifrandom <int>]\r\n",
        "                               [--one_state <int>] [--Dbs <double>] [--bz\r\n",
        "                               <double>] [--by <double>] [--bx <double>]\r\n",
        "                               [--Js <double>] [--DJs <double>] [--Jp\r\n",
        "                               <double>] [--Jc <double>] [--t <int>] [-q\r\n",
        "                               <int>] [-o <string>] [--PARAMseed <unsigned\r\n",
        "                               int>] [--Eseed <unsigned int>] [--Cseed\r\n",
        "                               <unsigned int>] [--] [--version] [-h]\r\n",
        "\r\n",
        "For complete USAGE and HELP type: \r\n",
        "   carlospg/qubits-CUDA/./abc --help\r\n",
        "\r\n"
       ]
      },
      {
       "output_type": "stream",
       "stream": "stdout",
       "text": [
        "PARSE ERROR: Argument: -q (--qubits)\r\n",
        "             Couldn't read argument value from string '--x'\r\n",
        "\r\n",
        "Brief USAGE: \r\n",
        "   carlospg/qubits-CUDA/./abc  [--symR <int>] [--x <int>] [--t_ave <int>]\r\n",
        "                               [--model <string>] [--no_general_report]\r\n",
        "                               [--dev <int>] [--ifrandom <int>]\r\n",
        "                               [--one_state <int>] [--Dbs <double>] [--bz\r\n",
        "                               <double>] [--by <double>] [--bx <double>]\r\n",
        "                               [--Js <double>] [--DJs <double>] [--Jp\r\n",
        "                               <double>] [--Jc <double>] [--t <int>] [-q\r\n",
        "                               <int>] [-o <string>] [--PARAMseed <unsigned\r\n",
        "                               int>] [--Eseed <unsigned int>] [--Cseed\r\n",
        "                               <unsigned int>] [--] [--version] [-h]\r\n",
        "\r\n",
        "For complete USAGE and HELP type: \r\n",
        "   carlospg/qubits-CUDA/./abc --help\r\n",
        "\r\n"
       ]
      },
      {
       "output_type": "stream",
       "stream": "stdout",
       "text": [
        "PARSE ERROR: Argument: -q (--qubits)\r\n",
        "             Couldn't read argument value from string '--x'\r\n",
        "\r\n",
        "Brief USAGE: \r\n",
        "   carlospg/qubits-CUDA/./abc  [--symR <int>] [--x <int>] [--t_ave <int>]\r\n",
        "                               [--model <string>] [--no_general_report]\r\n",
        "                               [--dev <int>] [--ifrandom <int>]\r\n",
        "                               [--one_state <int>] [--Dbs <double>] [--bz\r\n",
        "                               <double>] [--by <double>] [--bx <double>]\r\n",
        "                               [--Js <double>] [--DJs <double>] [--Jp\r\n",
        "                               <double>] [--Jc <double>] [--t <int>] [-q\r\n",
        "                               <int>] [-o <string>] [--PARAMseed <unsigned\r\n",
        "                               int>] [--Eseed <unsigned int>] [--Cseed\r\n",
        "                               <unsigned int>] [--] [--version] [-h]\r\n",
        "\r\n",
        "For complete USAGE and HELP type: \r\n",
        "   carlospg/qubits-CUDA/./abc --help\r\n",
        "\r\n"
       ]
      },
      {
       "output_type": "stream",
       "stream": "stdout",
       "text": [
        "^C\r\n"
       ]
      },
      {
       "output_type": "stream",
       "stream": "stdout",
       "text": [
        "^C\r\n"
       ]
      },
      {
       "output_type": "stream",
       "stream": "stdout",
       "text": [
        "^C\r\n"
       ]
      },
      {
       "ename": "KeyboardInterrupt",
       "evalue": "",
       "output_type": "pyerr",
       "traceback": ""
      },
      {
       "output_type": "stream",
       "stream": "stdout",
       "text": [
        "Traceback (most recent call last):\n",
        "  File \"/usr/lib/python2.7/dist-packages/IPython/core/ultratb.py\", line 759, in structured_traceback\n",
        "    records = _fixed_getinnerframes(etb, context, tb_offset)\n",
        "  File \"/usr/lib/python2.7/dist-packages/IPython/core/ultratb.py\", line 242, in _fixed_getinnerframes\n",
        "    records  = fix_frame_records_filenames(inspect.getinnerframes(etb, context))\n",
        "  File \"/usr/lib/python2.7/inspect.py\", line 1044, in getinnerframes\n",
        "    framelist.append((tb.tb_frame,) + getframeinfo(tb, context))\n",
        "  File \"/usr/lib/python2.7/inspect.py\", line 1004, in getframeinfo\n",
        "    filename = getsourcefile(frame) or getfile(frame)\n",
        "  File \"/usr/lib/python2.7/inspect.py\", line 454, in getsourcefile\n",
        "    if hasattr(getmodule(object, filename), '__loader__'):\n",
        "  File \"/usr/lib/python2.7/inspect.py\", line 490, in getmodule\n",
        "    for modname, module in sys.modules.items():\n",
        "KeyboardInterrupt\n"
       ]
      },
      {
       "output_type": "stream",
       "stream": "stderr",
       "text": [
        "ERROR: Internal Python error in the inspect module.\n",
        "Below is the traceback from this internal error.\n",
        "\n",
        "\n",
        "Unfortunately, your original traceback can not be constructed.\n",
        "\n"
       ]
      }
     ],
     "prompt_number": 3
    },
    {
     "cell_type": "code",
     "collapsed": false,
     "input": [
      "a=loadtxt(\"pur_pret.dat\")\n",
      "plot(jps,log(a),',')\n",
      "xlabel(\"$\\gamma$\")\n",
      "ylabel(\"$P$\")\n",
      "text(1.3,0.7,'$\\lambda=0.01$',fontsize=18)\n",
      "#axis([0,pi/2,.48,1.05])\n",
      "show()"
     ],
     "language": "python",
     "metadata": {},
     "outputs": [],
     "prompt_number": 21
    },
    {
     "cell_type": "code",
     "collapsed": false,
     "input": [],
     "language": "python",
     "metadata": {},
     "outputs": []
    }
   ],
   "metadata": {}
  }
 ]
}